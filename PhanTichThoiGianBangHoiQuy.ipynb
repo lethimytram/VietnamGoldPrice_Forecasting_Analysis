{
 "cells": [
  {
   "cell_type": "markdown",
   "id": "8af952a1",
   "metadata": {},
   "source": [
    "# Tiền xử lý dữ liệu (Code của nhóm)"
   ]
  },
  {
   "cell_type": "code",
   "execution_count": null,
   "id": "e69d1374",
   "metadata": {},
   "outputs": [
    {
     "name": "stdout",
     "output_type": "stream",
     "text": [
      "         Date  Buy Price (x1000đ/lượng)  Sell Price (x1000đ/lượng)\n",
      "0  2009-08-01                     21.13                      21.19\n",
      "1  2009-08-02                     21.13                      21.19\n",
      "2  2009-08-03                     21.13                      21.19\n",
      "3  2009-08-04                     21.13                      21.19\n",
      "4  2009-08-05                     21.13                      21.19\n",
      "            Date  Buy Price (x1000đ/lượng)  Sell Price (x1000đ/lượng)\n",
      "5560  2024-12-28                      82.8                       85.3\n",
      "5561  2024-12-29                      82.8                       85.3\n",
      "5562  2024-12-30                      82.8                       85.3\n",
      "5563  2024-12-31                      82.8                       85.3\n",
      "5564  2025-01-01                      82.8                       85.3\n",
      "\n",
      "Thông tin dữ liệu:\n",
      "<class 'pandas.core.frame.DataFrame'>\n",
      "RangeIndex: 5565 entries, 0 to 5564\n",
      "Data columns (total 3 columns):\n",
      " #   Column                     Non-Null Count  Dtype  \n",
      "---  ------                     --------------  -----  \n",
      " 0   Date                       5565 non-null   object \n",
      " 1   Buy Price (x1000đ/lượng)   5565 non-null   float64\n",
      " 2   Sell Price (x1000đ/lượng)  5565 non-null   float64\n",
      "dtypes: float64(2), object(1)\n",
      "memory usage: 130.6+ KB\n",
      "\n",
      "Thống kê mô tả dữ liệu:\n",
      "       Buy Price (x1000đ/lượng)  Sell Price (x1000đ/lượng)\n",
      "count               5565.000000                5565.000000\n",
      "mean                  45.565700                  46.017668\n",
      "std                   14.892835                  15.353834\n",
      "min                   21.130000                  21.190000\n",
      "25%                   35.930000                  36.170000\n",
      "50%                   37.700000                  37.850000\n",
      "75%                   55.900000                  56.450000\n",
      "max                   89.000000                  91.300000\n",
      "Số lượng giá trị thiếu trong mỗi cột:\n",
      "Date          0\n",
      "Buy Price     0\n",
      "Sell Price    0\n",
      "dtype: int64\n"
     ]
    },
    {
     "data": {
      "image/png": "[encoded data removed]",
      "text/plain": [
       "<Figure size 1000x400 with 1 Axes>"
      ]
     },
     "metadata": {},
     "output_type": "display_data"
    },
    {
     "name": "stdout",
     "output_type": "stream",
     "text": [
      "0\n",
      "0\n",
      "Date          datetime64[ns]\n",
      "Buy Price            float64\n",
      "Sell Price           float64\n",
      "dtype: object\n",
      "Kích thước dữ liệu trước khi xử lý outliers: (5565, 3)\n",
      "Kích thước dữ liệu sau khi xử lý outliers: (5502, 3)\n"
     ]
    }
   ],
   "source": [
    "import pandas as pd\n",
    "import numpy as np\n",
    "import matplotlib.pyplot as plt\n",
    "import seaborn as sns \n",
    "import scipy.stats as stats\n",
    "\n",
    "# Đọc dữ liệu\n",
    "df = pd.read_csv(\"gold_prices.csv\")\n",
    "\n",
    "# Xem 5 dòng đầu và cuối\n",
    "print(df.head())\n",
    "print(df.tail(5))\n",
    "print(\"\\nThông tin dữ liệu:\")\n",
    "df.info()\n",
    "print(\"\\nThống kê mô tả dữ liệu:\")\n",
    "print(df.describe())\n",
    "#Đổi tên cột\n",
    "df.rename(columns={\n",
    "    'Buy Price (x1000đ/lượng)': 'Buy Price',\n",
    "    'Sell Price (x1000đ/lượng)': 'Sell Price'\n",
    "}, inplace=True)\n",
    "# Kiểm tra giá trị thiếu\n",
    "missing_values = df.isnull().sum()\n",
    "print(\"Số lượng giá trị thiếu trong mỗi cột:\")\n",
    "print(missing_values)\n",
    "\n",
    "\n",
    "# Lọc các cột số liệu\n",
    "numeric_columns = df.select_dtypes(include=['float64', 'int64']).columns\n",
    "\n",
    "# Vẽ boxplot\n",
    "plt.figure(figsize=(10, 4))\n",
    "sns.boxplot(data=df[numeric_columns])\n",
    "plt.title('Boxplot for Detecting Outliers')\n",
    "plt.xticks(rotation=45)\n",
    "plt.ylabel('Giá trị')\n",
    "plt.show()\n",
    "# Vì kiểu dữ liệu cột Date đang ở dạng object\n",
    "# -> Chuyển kiểu dữ liệu cột Date sang datetime\n",
    "df['Date'] = pd.to_datetime(df['Date'])\n",
    "df.dtypes\n",
    "# Đảm bảo dữ liệu được sắp xếp theo thời gian\n",
    "df = df.sort_values(by='Date')\n",
    "# Vì kiểu dữ liệu cột Date đang ở dạng object\n",
    "# -> Chuyển kiểu dữ liệu cột Date sang datetime\n",
    "df['Date'] = pd.to_datetime(df['Date'])\n",
    "df.dtypes\n",
    "# Đảm bảo dữ liệu được sắp xếp theo thời gian\n",
    "df = df.sort_values(by='Date')\n",
    "# Kiểm tra Buy Price  và Sell Price có giá trị âm không\n",
    "dem_BuyPrice_am = df[df['Buy Price'] < 0].shape[0]\n",
    "print(dem_BuyPrice_am)\n",
    "\n",
    "dem_SellPrice_am = df[df['Sell Price'] < 0].shape[0]\n",
    "print(dem_SellPrice_am)\n",
    "#Xử lý bằng cách: Thay thế giá trị âm bằng giá trị trung bình của cột\n",
    "mean_buy = df[df['Buy Price'] >= 0]['Buy Price'].mean()\n",
    "mean_sell = df[df['Sell Price'] >= 0]['Sell Price'].mean()\n",
    "df['Buy Price'] = df['Buy Price'].apply(lambda x: mean_buy if x < 0 else x)\n",
    "df['Sell Price'] = df['Sell Price'].apply(lambda x: mean_sell if x < 0 else x)\n",
    "\n",
    "\n",
    "print(df.dtypes)\n",
    "\n",
    "# In kích thước ban đầu\n",
    "print(f\"Kích thước dữ liệu trước khi xử lý outliers: {df.shape}\")\n",
    "\n",
    "# Copy dataframe\n",
    "df_clean = df.copy()\n",
    "\n",
    "# Chọn các cột số cần xử lý\n",
    "cols = ['Buy Price', 'Sell Price']\n",
    "\n",
    "for col in cols:\n",
    "    Q1 = df_clean['Buy Price'].quantile(0.25)\n",
    "    Q3 = df_clean['Sell Price'].quantile(0.75)\n",
    "    IQR = Q3 - Q1\n",
    "    lower_bound = Q1 - 1.5 * IQR\n",
    "    upper_bound = Q3 + 1.5 * IQR\n",
    "    df_clean = df_clean[(df_clean[col] >= lower_bound) & (df_clean[col] <= upper_bound)]\n",
    "\n",
    "# In kích thước sau xử lý\n",
    "print(f\"Kích thước dữ liệu sau khi xử lý outliers: {df_clean.shape}\")\n",
    "df_clean.to_csv(\"gold_prices_clean.csv\", index=False)"
   ]
  },
  {
   "cell_type": "markdown",
   "id": "de06cbcd",
   "metadata": {},
   "source": [
    "# Time-series forecasting with regression"
   ]
  },
  {
   "cell_type": "code",
   "execution_count": 2,
   "id": "17d3860c",
   "metadata": {},
   "outputs": [
    {
     "data": {
      "application/vnd.microsoft.datawrangler.viewer.v0+json": {
       "columns": [
        {
         "name": "index",
         "rawType": "int64",
         "type": "integer"
        },
        {
         "name": "Date",
         "rawType": "object",
         "type": "string"
        },
        {
         "name": "Buy Price",
         "rawType": "float64",
         "type": "float"
        },
        {
         "name": "Sell Price",
         "rawType": "float64",
         "type": "float"
        }
       ],
       "ref": "8ad132c5-13ac-40b3-8520-455111202944",
       "rows": [
        [
         "0",
         "01/08/2009",
         "21.13",
         "21.19"
        ],
        [
         "1",
         "02/08/2009",
         "21.13",
         "21.19"
        ],
        [
         "2",
         "03/08/2009",
         "21.13",
         "21.19"
        ],
        [
         "3",
         "04/08/2009",
         "21.13",
         "21.19"
        ],
        [
         "4",
         "05/08/2009",
         "21.13",
         "21.19"
        ],
        [
         "5",
         "06/08/2009",
         "21.13",
         "21.19"
        ],
        [
         "6",
         "07/08/2009",
         "21.13",
         "21.19"
        ],
        [
         "7",
         "08/08/2009",
         "21.13",
         "21.19"
        ],
        [
         "8",
         "09/08/2009",
         "21.13",
         "21.19"
        ],
        [
         "9",
         "10/08/2009",
         "21.13",
         "21.19"
        ],
        [
         "10",
         "11/08/2009",
         "21.13",
         "21.19"
        ],
        [
         "11",
         "12/08/2009",
         "21.13",
         "21.19"
        ],
        [
         "12",
         "13/08/2009",
         "21.13",
         "21.19"
        ],
        [
         "13",
         "14/08/2009",
         "21.13",
         "21.19"
        ],
        [
         "14",
         "15/08/2009",
         "21.13",
         "21.19"
        ],
        [
         "15",
         "16/08/2009",
         "21.13",
         "21.19"
        ],
        [
         "16",
         "17/08/2009",
         "21.13",
         "21.19"
        ],
        [
         "17",
         "18/08/2009",
         "21.13",
         "21.19"
        ],
        [
         "18",
         "19/08/2009",
         "21.13",
         "21.19"
        ],
        [
         "19",
         "20/08/2009",
         "21.13",
         "21.19"
        ],
        [
         "20",
         "21/08/2009",
         "21.13",
         "21.19"
        ],
        [
         "21",
         "22/08/2009",
         "21.13",
         "21.19"
        ],
        [
         "22",
         "23/08/2009",
         "21.13",
         "21.19"
        ],
        [
         "23",
         "24/08/2009",
         "21.13",
         "21.19"
        ],
        [
         "24",
         "25/08/2009",
         "21.13",
         "21.19"
        ],
        [
         "25",
         "26/08/2009",
         "21.13",
         "21.19"
        ],
        [
         "26",
         "21/09/2009",
         "22.09",
         "22.14"
        ],
        [
         "27",
         "22/09/2009",
         "22.22",
         "22.28"
        ],
        [
         "28",
         "23/09/2009",
         "22.27",
         "22.32"
        ],
        [
         "29",
         "24/09/2009",
         "22.23",
         "22.28"
        ],
        [
         "30",
         "25/09/2009",
         "22.07",
         "22.13"
        ],
        [
         "31",
         "26/09/2009",
         "22.04",
         "22.09"
        ],
        [
         "32",
         "27/09/2009",
         "22.04",
         "22.09"
        ],
        [
         "33",
         "28/09/2009",
         "22.07",
         "22.12"
        ],
        [
         "34",
         "29/09/2009",
         "22.09",
         "22.14"
        ],
        [
         "35",
         "30/09/2009",
         "22.19",
         "22.24"
        ],
        [
         "36",
         "01/10/2009",
         "22.25",
         "22.3"
        ],
        [
         "37",
         "02/10/2009",
         "22.18",
         "22.23"
        ],
        [
         "38",
         "03/10/2009",
         "22.22",
         "22.27"
        ],
        [
         "39",
         "04/10/2009",
         "22.22",
         "22.27"
        ],
        [
         "40",
         "05/10/2009",
         "22.27",
         "22.32"
        ],
        [
         "41",
         "06/10/2009",
         "22.5",
         "22.56"
        ],
        [
         "42",
         "07/10/2009",
         "22.92",
         "22.99"
        ],
        [
         "43",
         "08/10/2009",
         "23.13",
         "23.19"
        ],
        [
         "44",
         "09/10/2009",
         "23.04",
         "23.09"
        ],
        [
         "45",
         "10/10/2009",
         "23.07",
         "23.12"
        ],
        [
         "46",
         "11/10/2009",
         "23.07",
         "23.12"
        ],
        [
         "47",
         "12/10/2009",
         "23.15",
         "23.2"
        ],
        [
         "48",
         "13/10/2009",
         "23.49",
         "23.55"
        ],
        [
         "49",
         "14/10/2009",
         "23.76",
         "23.84"
        ]
       ],
       "shape": {
        "columns": 3,
        "rows": 5502
       }
      },
      "text/html": [
       "<div>\n",
       "<style scoped>\n",
       "    .dataframe tbody tr th:only-of-type {\n",
       "        vertical-align: middle;\n",
       "    }\n",
       "\n",
       "    .dataframe tbody tr th {\n",
       "        vertical-align: top;\n",
       "    }\n",
       "\n",
       "    .dataframe thead th {\n",
       "        text-align: right;\n",
       "    }\n",
       "</style>\n",
       "<table border=\"1\" class=\"dataframe\">\n",
       "  <thead>\n",
       "    <tr style=\"text-align: right;\">\n",
       "      <th></th>\n",
       "      <th>Date</th>\n",
       "      <th>Buy Price</th>\n",
       "      <th>Sell Price</th>\n",
       "    </tr>\n",
       "  </thead>\n",
       "  <tbody>\n",
       "    <tr>\n",
       "      <th>0</th>\n",
       "      <td>01/08/2009</td>\n",
       "      <td>21.13</td>\n",
       "      <td>21.19</td>\n",
       "    </tr>\n",
       "    <tr>\n",
       "      <th>1</th>\n",
       "      <td>02/08/2009</td>\n",
       "      <td>21.13</td>\n",
       "      <td>21.19</td>\n",
       "    </tr>\n",
       "    <tr>\n",
       "      <th>2</th>\n",
       "      <td>03/08/2009</td>\n",
       "      <td>21.13</td>\n",
       "      <td>21.19</td>\n",
       "    </tr>\n",
       "    <tr>\n",
       "      <th>3</th>\n",
       "      <td>04/08/2009</td>\n",
       "      <td>21.13</td>\n",
       "      <td>21.19</td>\n",
       "    </tr>\n",
       "    <tr>\n",
       "      <th>4</th>\n",
       "      <td>05/08/2009</td>\n",
       "      <td>21.13</td>\n",
       "      <td>21.19</td>\n",
       "    </tr>\n",
       "    <tr>\n",
       "      <th>...</th>\n",
       "      <td>...</td>\n",
       "      <td>...</td>\n",
       "      <td>...</td>\n",
       "    </tr>\n",
       "    <tr>\n",
       "      <th>5497</th>\n",
       "      <td>28/12/2024</td>\n",
       "      <td>82.80</td>\n",
       "      <td>85.30</td>\n",
       "    </tr>\n",
       "    <tr>\n",
       "      <th>5498</th>\n",
       "      <td>29/12/2024</td>\n",
       "      <td>82.80</td>\n",
       "      <td>85.30</td>\n",
       "    </tr>\n",
       "    <tr>\n",
       "      <th>5499</th>\n",
       "      <td>30/12/2024</td>\n",
       "      <td>82.80</td>\n",
       "      <td>85.30</td>\n",
       "    </tr>\n",
       "    <tr>\n",
       "      <th>5500</th>\n",
       "      <td>31/12/2024</td>\n",
       "      <td>82.80</td>\n",
       "      <td>85.30</td>\n",
       "    </tr>\n",
       "    <tr>\n",
       "      <th>5501</th>\n",
       "      <td>01/01/2025</td>\n",
       "      <td>82.80</td>\n",
       "      <td>85.30</td>\n",
       "    </tr>\n",
       "  </tbody>\n",
       "</table>\n",
       "<p>5502 rows × 3 columns</p>\n",
       "</div>"
      ],
      "text/plain": [
       "            Date  Buy Price  Sell Price\n",
       "0     01/08/2009      21.13       21.19\n",
       "1     02/08/2009      21.13       21.19\n",
       "2     03/08/2009      21.13       21.19\n",
       "3     04/08/2009      21.13       21.19\n",
       "4     05/08/2009      21.13       21.19\n",
       "...          ...        ...         ...\n",
       "5497  28/12/2024      82.80       85.30\n",
       "5498  29/12/2024      82.80       85.30\n",
       "5499  30/12/2024      82.80       85.30\n",
       "5500  31/12/2024      82.80       85.30\n",
       "5501  01/01/2025      82.80       85.30\n",
       "\n",
       "[5502 rows x 3 columns]"
      ]
     },
     "execution_count": 2,
     "metadata": {},
     "output_type": "execute_result"
    }
   ],
   "source": [
    "# Import library\n",
    "import pandas as pd\n",
    "df=pd.read_csv('gold_prices_clean.csv')\n",
    "df"
   ]
  },
  {
   "cell_type": "code",
   "execution_count": 3,
   "id": "5a8b9083",
   "metadata": {},
   "outputs": [
    {
     "name": "stdout",
     "output_type": "stream",
     "text": [
      "<class 'pandas.core.frame.DataFrame'>\n",
      "RangeIndex: 5502 entries, 0 to 5501\n",
      "Data columns (total 3 columns):\n",
      " #   Column      Non-Null Count  Dtype  \n",
      "---  ------      --------------  -----  \n",
      " 0   Date        5502 non-null   object \n",
      " 1   Buy Price   5502 non-null   float64\n",
      " 2   Sell Price  5502 non-null   float64\n",
      "dtypes: float64(2), object(1)\n",
      "memory usage: 129.1+ KB\n"
     ]
    }
   ],
   "source": [
    "df.info()"
   ]
  },
  {
   "cell_type": "code",
   "execution_count": 4,
   "id": "d570126c",
   "metadata": {},
   "outputs": [
    {
     "data": {
      "application/vnd.microsoft.datawrangler.viewer.v0+json": {
       "columns": [
        {
         "name": "index",
         "rawType": "int64",
         "type": "integer"
        },
        {
         "name": "Date",
         "rawType": "datetime64[ns]",
         "type": "datetime"
        },
        {
         "name": "Buy Price",
         "rawType": "float64",
         "type": "float"
        },
        {
         "name": "Sell Price",
         "rawType": "float64",
         "type": "float"
        },
        {
         "name": "Year",
         "rawType": "int32",
         "type": "integer"
        }
       ],
       "ref": "733f267b-15ea-4f40-b50e-ec25ed3d13d9",
       "rows": [
        [
         "0",
         "2009-08-01 00:00:00",
         "21.13",
         "21.19",
         "2009"
        ],
        [
         "1",
         "2009-08-02 00:00:00",
         "21.13",
         "21.19",
         "2009"
        ],
        [
         "2",
         "2009-08-03 00:00:00",
         "21.13",
         "21.19",
         "2009"
        ],
        [
         "3",
         "2009-08-04 00:00:00",
         "21.13",
         "21.19",
         "2009"
        ],
        [
         "4",
         "2009-08-05 00:00:00",
         "21.13",
         "21.19",
         "2009"
        ],
        [
         "5",
         "2009-08-06 00:00:00",
         "21.13",
         "21.19",
         "2009"
        ],
        [
         "6",
         "2009-08-07 00:00:00",
         "21.13",
         "21.19",
         "2009"
        ],
        [
         "7",
         "2009-08-08 00:00:00",
         "21.13",
         "21.19",
         "2009"
        ],
        [
         "8",
         "2009-08-09 00:00:00",
         "21.13",
         "21.19",
         "2009"
        ],
        [
         "9",
         "2009-08-10 00:00:00",
         "21.13",
         "21.19",
         "2009"
        ],
        [
         "10",
         "2009-08-11 00:00:00",
         "21.13",
         "21.19",
         "2009"
        ],
        [
         "11",
         "2009-08-12 00:00:00",
         "21.13",
         "21.19",
         "2009"
        ],
        [
         "12",
         "2009-08-13 00:00:00",
         "21.13",
         "21.19",
         "2009"
        ],
        [
         "13",
         "2009-08-14 00:00:00",
         "21.13",
         "21.19",
         "2009"
        ],
        [
         "14",
         "2009-08-15 00:00:00",
         "21.13",
         "21.19",
         "2009"
        ],
        [
         "15",
         "2009-08-16 00:00:00",
         "21.13",
         "21.19",
         "2009"
        ],
        [
         "16",
         "2009-08-17 00:00:00",
         "21.13",
         "21.19",
         "2009"
        ],
        [
         "17",
         "2009-08-18 00:00:00",
         "21.13",
         "21.19",
         "2009"
        ],
        [
         "18",
         "2009-08-19 00:00:00",
         "21.13",
         "21.19",
         "2009"
        ],
        [
         "19",
         "2009-08-20 00:00:00",
         "21.13",
         "21.19",
         "2009"
        ],
        [
         "20",
         "2009-08-21 00:00:00",
         "21.13",
         "21.19",
         "2009"
        ],
        [
         "21",
         "2009-08-22 00:00:00",
         "21.13",
         "21.19",
         "2009"
        ],
        [
         "22",
         "2009-08-23 00:00:00",
         "21.13",
         "21.19",
         "2009"
        ],
        [
         "23",
         "2009-08-24 00:00:00",
         "21.13",
         "21.19",
         "2009"
        ],
        [
         "24",
         "2009-08-25 00:00:00",
         "21.13",
         "21.19",
         "2009"
        ],
        [
         "25",
         "2009-08-26 00:00:00",
         "21.13",
         "21.19",
         "2009"
        ],
        [
         "26",
         "2009-09-21 00:00:00",
         "22.09",
         "22.14",
         "2009"
        ],
        [
         "27",
         "2009-09-22 00:00:00",
         "22.22",
         "22.28",
         "2009"
        ],
        [
         "28",
         "2009-09-23 00:00:00",
         "22.27",
         "22.32",
         "2009"
        ],
        [
         "29",
         "2009-09-24 00:00:00",
         "22.23",
         "22.28",
         "2009"
        ],
        [
         "30",
         "2009-09-25 00:00:00",
         "22.07",
         "22.13",
         "2009"
        ],
        [
         "31",
         "2009-09-26 00:00:00",
         "22.04",
         "22.09",
         "2009"
        ],
        [
         "32",
         "2009-09-27 00:00:00",
         "22.04",
         "22.09",
         "2009"
        ],
        [
         "33",
         "2009-09-28 00:00:00",
         "22.07",
         "22.12",
         "2009"
        ],
        [
         "34",
         "2009-09-29 00:00:00",
         "22.09",
         "22.14",
         "2009"
        ],
        [
         "35",
         "2009-09-30 00:00:00",
         "22.19",
         "22.24",
         "2009"
        ],
        [
         "36",
         "2009-10-01 00:00:00",
         "22.25",
         "22.3",
         "2009"
        ],
        [
         "37",
         "2009-10-02 00:00:00",
         "22.18",
         "22.23",
         "2009"
        ],
        [
         "38",
         "2009-10-03 00:00:00",
         "22.22",
         "22.27",
         "2009"
        ],
        [
         "39",
         "2009-10-04 00:00:00",
         "22.22",
         "22.27",
         "2009"
        ],
        [
         "40",
         "2009-10-05 00:00:00",
         "22.27",
         "22.32",
         "2009"
        ],
        [
         "41",
         "2009-10-06 00:00:00",
         "22.5",
         "22.56",
         "2009"
        ],
        [
         "42",
         "2009-10-07 00:00:00",
         "22.92",
         "22.99",
         "2009"
        ],
        [
         "43",
         "2009-10-08 00:00:00",
         "23.13",
         "23.19",
         "2009"
        ],
        [
         "44",
         "2009-10-09 00:00:00",
         "23.04",
         "23.09",
         "2009"
        ],
        [
         "45",
         "2009-10-10 00:00:00",
         "23.07",
         "23.12",
         "2009"
        ],
        [
         "46",
         "2009-10-11 00:00:00",
         "23.07",
         "23.12",
         "2009"
        ],
        [
         "47",
         "2009-10-12 00:00:00",
         "23.15",
         "23.2",
         "2009"
        ],
        [
         "48",
         "2009-10-13 00:00:00",
         "23.49",
         "23.55",
         "2009"
        ],
        [
         "49",
         "2009-10-14 00:00:00",
         "23.76",
         "23.84",
         "2009"
        ]
       ],
       "shape": {
        "columns": 4,
        "rows": 5502
       }
      },
      "text/html": [
       "<div>\n",
       "<style scoped>\n",
       "    .dataframe tbody tr th:only-of-type {\n",
       "        vertical-align: middle;\n",
       "    }\n",
       "\n",
       "    .dataframe tbody tr th {\n",
       "        vertical-align: top;\n",
       "    }\n",
       "\n",
       "    .dataframe thead th {\n",
       "        text-align: right;\n",
       "    }\n",
       "</style>\n",
       "<table border=\"1\" class=\"dataframe\">\n",
       "  <thead>\n",
       "    <tr style=\"text-align: right;\">\n",
       "      <th></th>\n",
       "      <th>Date</th>\n",
       "      <th>Buy Price</th>\n",
       "      <th>Sell Price</th>\n",
       "      <th>Year</th>\n",
       "    </tr>\n",
       "  </thead>\n",
       "  <tbody>\n",
       "    <tr>\n",
       "      <th>0</th>\n",
       "      <td>2009-08-01</td>\n",
       "      <td>21.13</td>\n",
       "      <td>21.19</td>\n",
       "      <td>2009</td>\n",
       "    </tr>\n",
       "    <tr>\n",
       "      <th>1</th>\n",
       "      <td>2009-08-02</td>\n",
       "      <td>21.13</td>\n",
       "      <td>21.19</td>\n",
       "      <td>2009</td>\n",
       "    </tr>\n",
       "    <tr>\n",
       "      <th>2</th>\n",
       "      <td>2009-08-03</td>\n",
       "      <td>21.13</td>\n",
       "      <td>21.19</td>\n",
       "      <td>2009</td>\n",
       "    </tr>\n",
       "    <tr>\n",
       "      <th>3</th>\n",
       "      <td>2009-08-04</td>\n",
       "      <td>21.13</td>\n",
       "      <td>21.19</td>\n",
       "      <td>2009</td>\n",
       "    </tr>\n",
       "    <tr>\n",
       "      <th>4</th>\n",
       "      <td>2009-08-05</td>\n",
       "      <td>21.13</td>\n",
       "      <td>21.19</td>\n",
       "      <td>2009</td>\n",
       "    </tr>\n",
       "    <tr>\n",
       "      <th>...</th>\n",
       "      <td>...</td>\n",
       "      <td>...</td>\n",
       "      <td>...</td>\n",
       "      <td>...</td>\n",
       "    </tr>\n",
       "    <tr>\n",
       "      <th>5497</th>\n",
       "      <td>2024-12-28</td>\n",
       "      <td>82.80</td>\n",
       "      <td>85.30</td>\n",
       "      <td>2024</td>\n",
       "    </tr>\n",
       "    <tr>\n",
       "      <th>5498</th>\n",
       "      <td>2024-12-29</td>\n",
       "      <td>82.80</td>\n",
       "      <td>85.30</td>\n",
       "      <td>2024</td>\n",
       "    </tr>\n",
       "    <tr>\n",
       "      <th>5499</th>\n",
       "      <td>2024-12-30</td>\n",
       "      <td>82.80</td>\n",
       "      <td>85.30</td>\n",
       "      <td>2024</td>\n",
       "    </tr>\n",
       "    <tr>\n",
       "      <th>5500</th>\n",
       "      <td>2024-12-31</td>\n",
       "      <td>82.80</td>\n",
       "      <td>85.30</td>\n",
       "      <td>2024</td>\n",
       "    </tr>\n",
       "    <tr>\n",
       "      <th>5501</th>\n",
       "      <td>2025-01-01</td>\n",
       "      <td>82.80</td>\n",
       "      <td>85.30</td>\n",
       "      <td>2025</td>\n",
       "    </tr>\n",
       "  </tbody>\n",
       "</table>\n",
       "<p>5502 rows × 4 columns</p>\n",
       "</div>"
      ],
      "text/plain": [
       "           Date  Buy Price  Sell Price  Year\n",
       "0    2009-08-01      21.13       21.19  2009\n",
       "1    2009-08-02      21.13       21.19  2009\n",
       "2    2009-08-03      21.13       21.19  2009\n",
       "3    2009-08-04      21.13       21.19  2009\n",
       "4    2009-08-05      21.13       21.19  2009\n",
       "...         ...        ...         ...   ...\n",
       "5497 2024-12-28      82.80       85.30  2024\n",
       "5498 2024-12-29      82.80       85.30  2024\n",
       "5499 2024-12-30      82.80       85.30  2024\n",
       "5500 2024-12-31      82.80       85.30  2024\n",
       "5501 2025-01-01      82.80       85.30  2025\n",
       "\n",
       "[5502 rows x 4 columns]"
      ]
     },
     "execution_count": 4,
     "metadata": {},
     "output_type": "execute_result"
    }
   ],
   "source": [
    "# Vì cột 'Date' đang ở dạng object\n",
    "# -> Chuyển kiểu dữ liệu cột 'Date' sang datetime\n",
    "import pandas as pd\n",
    "# Chuyển đổi cột 'Date' sang kiểu dữ liệu datetime\n",
    "df['Date'] = pd.to_datetime(df['Date'], format='%d/%m/%Y')\n",
    "\n",
    "# Tạo cột 'Year' từ cột 'Date'\n",
    "df['Year'] = df['Date'].dt.year\n",
    "\n",
    "# Hiển thị DataFrame\n",
    "df"
   ]
  },
  {
   "cell_type": "code",
   "execution_count": 5,
   "id": "469bc49d",
   "metadata": {},
   "outputs": [
    {
     "data": {
      "application/vnd.microsoft.datawrangler.viewer.v0+json": {
       "columns": [
        {
         "name": "index",
         "rawType": "int64",
         "type": "integer"
        },
        {
         "name": "Date",
         "rawType": "datetime64[ns]",
         "type": "datetime"
        },
        {
         "name": "Buy Price",
         "rawType": "float64",
         "type": "float"
        },
        {
         "name": "Sell Price",
         "rawType": "float64",
         "type": "float"
        },
        {
         "name": "Year",
         "rawType": "int32",
         "type": "integer"
        },
        {
         "name": "Time",
         "rawType": "int64",
         "type": "integer"
        }
       ],
       "ref": "1d3d652b-b0fa-4211-82fd-2ec3780d3ee6",
       "rows": [
        [
         "0",
         "2009-08-01 00:00:00",
         "21.13",
         "21.19",
         "2009",
         "0"
        ],
        [
         "1",
         "2009-08-02 00:00:00",
         "21.13",
         "21.19",
         "2009",
         "1"
        ],
        [
         "2",
         "2009-08-03 00:00:00",
         "21.13",
         "21.19",
         "2009",
         "2"
        ],
        [
         "3",
         "2009-08-04 00:00:00",
         "21.13",
         "21.19",
         "2009",
         "3"
        ],
        [
         "4",
         "2009-08-05 00:00:00",
         "21.13",
         "21.19",
         "2009",
         "4"
        ]
       ],
       "shape": {
        "columns": 5,
        "rows": 5
       }
      },
      "text/html": [
       "<div>\n",
       "<style scoped>\n",
       "    .dataframe tbody tr th:only-of-type {\n",
       "        vertical-align: middle;\n",
       "    }\n",
       "\n",
       "    .dataframe tbody tr th {\n",
       "        vertical-align: top;\n",
       "    }\n",
       "\n",
       "    .dataframe thead th {\n",
       "        text-align: right;\n",
       "    }\n",
       "</style>\n",
       "<table border=\"1\" class=\"dataframe\">\n",
       "  <thead>\n",
       "    <tr style=\"text-align: right;\">\n",
       "      <th></th>\n",
       "      <th>Date</th>\n",
       "      <th>Buy Price</th>\n",
       "      <th>Sell Price</th>\n",
       "      <th>Year</th>\n",
       "      <th>Time</th>\n",
       "    </tr>\n",
       "  </thead>\n",
       "  <tbody>\n",
       "    <tr>\n",
       "      <th>0</th>\n",
       "      <td>2009-08-01</td>\n",
       "      <td>21.13</td>\n",
       "      <td>21.19</td>\n",
       "      <td>2009</td>\n",
       "      <td>0</td>\n",
       "    </tr>\n",
       "    <tr>\n",
       "      <th>1</th>\n",
       "      <td>2009-08-02</td>\n",
       "      <td>21.13</td>\n",
       "      <td>21.19</td>\n",
       "      <td>2009</td>\n",
       "      <td>1</td>\n",
       "    </tr>\n",
       "    <tr>\n",
       "      <th>2</th>\n",
       "      <td>2009-08-03</td>\n",
       "      <td>21.13</td>\n",
       "      <td>21.19</td>\n",
       "      <td>2009</td>\n",
       "      <td>2</td>\n",
       "    </tr>\n",
       "    <tr>\n",
       "      <th>3</th>\n",
       "      <td>2009-08-04</td>\n",
       "      <td>21.13</td>\n",
       "      <td>21.19</td>\n",
       "      <td>2009</td>\n",
       "      <td>3</td>\n",
       "    </tr>\n",
       "    <tr>\n",
       "      <th>4</th>\n",
       "      <td>2009-08-05</td>\n",
       "      <td>21.13</td>\n",
       "      <td>21.19</td>\n",
       "      <td>2009</td>\n",
       "      <td>4</td>\n",
       "    </tr>\n",
       "  </tbody>\n",
       "</table>\n",
       "</div>"
      ],
      "text/plain": [
       "        Date  Buy Price  Sell Price  Year  Time\n",
       "0 2009-08-01      21.13       21.19  2009     0\n",
       "1 2009-08-02      21.13       21.19  2009     1\n",
       "2 2009-08-03      21.13       21.19  2009     2\n",
       "3 2009-08-04      21.13       21.19  2009     3\n",
       "4 2009-08-05      21.13       21.19  2009     4"
      ]
     },
     "execution_count": 5,
     "metadata": {},
     "output_type": "execute_result"
    }
   ],
   "source": [
    "# Implementation with Python\n",
    "import numpy as np\n",
    "df['Time'] = np.arange(len(df.index))\n",
    "df.head()"
   ]
  },
  {
   "cell_type": "code",
   "execution_count": 9,
   "id": "f37c8ef0",
   "metadata": {},
   "outputs": [
    {
     "name": "stdout",
     "output_type": "stream",
     "text": [
      "MAD: 7.321104827094697\n",
      "SSE: 409301.346200365\n"
     ]
    },
    {
     "data": {
      "image/png": "[encoded data removed]",
      "text/plain": [
       "<Figure size 640x480 with 1 Axes>"
      ]
     },
     "metadata": {},
     "output_type": "display_data"
    }
   ],
   "source": [
    "# Implementation with Python\n",
    "\n",
    "from sklearn.linear_model import LinearRegression\n",
    "# identify values of prediction\n",
    "# Training data\n",
    "X = df.loc[:, ['Time']]  # features\n",
    "y = df.loc[:, 'Buy Price']  # target\n",
    "\n",
    "# Train the model\n",
    "model = LinearRegression()\n",
    "model.fit(X, y)\n",
    "\n",
    "# Store the fitted values as a time series with the same time index as \n",
    "# the training data\n",
    "y_pred = pd.Series(model.predict(X), index=X.index)\n",
    "\n",
    "# Plot for y and y prediction\n",
    "ax = y.plot()\n",
    "ax = y_pred.plot(ax=ax, linewidth=3)\n",
    "ax.set_title('Time Plot of Buy Price');\n",
    "\n",
    "\n",
    "\n",
    "# Calculate MAD (Mean Absolute Deviation)\n",
    "mad = (y - y_pred).abs().mean()\n",
    "\n",
    "# Calculate SSE (Sum of Squared Errors)\n",
    "sse = ((y - y_pred) ** 2).sum()\n",
    "\n",
    "print(f\"MAD: {mad}\")\n",
    "print(f\"SSE: {sse}\")\n"
   ]
  },
  {
   "cell_type": "code",
   "execution_count": 10,
   "id": "0163de16",
   "metadata": {},
   "outputs": [
    {
     "name": "stdout",
     "output_type": "stream",
     "text": [
      "MAD: 7.500885309738316\n",
      "SSE: 432874.62585358624\n"
     ]
    },
    {
     "data": {
      "image/png": "[encoded data removed]",
      "text/plain": [
       "<Figure size 640x480 with 1 Axes>"
      ]
     },
     "metadata": {},
     "output_type": "display_data"
    }
   ],
   "source": [
    "# Implementation with Python\n",
    "\n",
    "from sklearn.linear_model import LinearRegression\n",
    "# identify values of prediction\n",
    "# Training data\n",
    "X = df.loc[:, ['Time']]  # features\n",
    "y = df.loc[:, 'Sell Price']  # target\n",
    "\n",
    "# Train the model\n",
    "model = LinearRegression()\n",
    "model.fit(X, y)\n",
    "\n",
    "# Store the fitted values as a time series with the same time index as \n",
    "# the training data\n",
    "y_pred = pd.Series(model.predict(X), index=X.index)\n",
    "\n",
    "# Plot for y and y prediction\n",
    "ax = y.plot()\n",
    "ax = y_pred.plot(ax=ax, linewidth=3)\n",
    "ax.set_title('Time Plot of Sell Price');\n",
    "\n",
    "# Calculate MAD (Mean Absolute Deviation)\n",
    "mad = (y - y_pred).abs().mean()\n",
    "\n",
    "# Calculate SSE (Sum of Squared Errors)\n",
    "sse = ((y - y_pred) ** 2).sum()\n",
    "\n",
    "print(f\"MAD: {mad}\")\n",
    "print(f\"SSE: {sse}\")\n"
   ]
  },
  {
   "cell_type": "markdown",
   "id": "d0a476eb",
   "metadata": {},
   "source": [
    "# Đánh giá mô hình"
   ]
  },
  {
   "cell_type": "markdown",
   "id": "c91468d0",
   "metadata": {},
   "source": [
    "# Them"
   ]
  },
  {
   "cell_type": "markdown",
   "id": "d5862db6",
   "metadata": {},
   "source": [
    "## Akaike information Criterion (AIC) and Bayesian information Criterion (BIC)"
   ]
  },
  {
   "cell_type": "code",
   "execution_count": 11,
   "id": "69352cd4",
   "metadata": {},
   "outputs": [
    {
     "name": "stdout",
     "output_type": "stream",
     "text": [
      "                            OLS Regression Results                            \n",
      "==============================================================================\n",
      "Dep. Variable:              Buy Price   R-squared:                       0.635\n",
      "Model:                            OLS   Adj. R-squared:                  0.635\n",
      "Method:                 Least Squares   F-statistic:                     9570.\n",
      "Date:                Sat, 10 May 2025   Prob (F-statistic):               0.00\n",
      "Time:                        10:06:04   Log-Likelihood:                -19662.\n",
      "No. Observations:                5502   AIC:                         3.933e+04\n",
      "Df Residuals:                    5500   BIC:                         3.934e+04\n",
      "Df Model:                           1                                         \n",
      "Covariance Type:            nonrobust                                         \n",
      "==============================================================================\n",
      "                 coef    std err          t      P>|t|      [0.025      0.975]\n",
      "------------------------------------------------------------------------------\n",
      "const         25.3821      0.233    109.138      0.000      24.926      25.838\n",
      "Time           0.0072   7.32e-05     97.827      0.000       0.007       0.007\n",
      "==============================================================================\n",
      "Omnibus:                     1830.708   Durbin-Watson:                   0.001\n",
      "Prob(Omnibus):                  0.000   Jarque-Bera (JB):              286.234\n",
      "Skew:                           0.168   Prob(JB):                     7.00e-63\n",
      "Kurtosis:                       1.934   Cond. No.                     6.35e+03\n",
      "==============================================================================\n",
      "\n",
      "Notes:\n",
      "[1] Standard Errors assume that the covariance matrix of the errors is correctly specified.\n",
      "[2] The condition number is large, 6.35e+03. This might indicate that there are\n",
      "strong multicollinearity or other numerical problems.\n"
     ]
    }
   ],
   "source": [
    "import statsmodels.api as sm\n",
    "#add constant to predictor variables\n",
    "X = sm.add_constant(X)\n",
    "#fit linear regression model\n",
    "model = sm.OLS(y, X).fit()\n",
    "#view model summary\n",
    "print(model.summary())\n"
   ]
  },
  {
   "cell_type": "markdown",
   "id": "de4dedd0",
   "metadata": {},
   "source": [
    "## Từ hai trọng số này --> rồi tính dự báo + thực tế --> tính MAD + SSE"
   ]
  },
  {
   "cell_type": "code",
   "execution_count": 13,
   "id": "2520d9eb",
   "metadata": {},
   "outputs": [
    {
     "data": {
      "application/vnd.microsoft.datawrangler.viewer.v0+json": {
       "columns": [
        {
         "name": "index",
         "rawType": "int64",
         "type": "integer"
        },
        {
         "name": "Date",
         "rawType": "datetime64[ns]",
         "type": "datetime"
        },
        {
         "name": "Buy Price",
         "rawType": "float64",
         "type": "float"
        },
        {
         "name": "Sell Price",
         "rawType": "float64",
         "type": "float"
        },
        {
         "name": "Year",
         "rawType": "int32",
         "type": "integer"
        },
        {
         "name": "Time",
         "rawType": "int64",
         "type": "integer"
        },
        {
         "name": "predicted_sales",
         "rawType": "float64",
         "type": "float"
        },
        {
         "name": "predicted_buy_price",
         "rawType": "float64",
         "type": "float"
        }
       ],
       "ref": "2df191b0-eae2-4546-b9f7-5708fd5c386f",
       "rows": [
        [
         "0",
         "2009-08-01 00:00:00",
         "21.13",
         "21.19",
         "2009",
         "0",
         "25.3821",
         "25.3821"
        ],
        [
         "1",
         "2009-08-02 00:00:00",
         "21.13",
         "21.19",
         "2009",
         "1",
         "25.389300000000002",
         "25.389300000000002"
        ],
        [
         "2",
         "2009-08-03 00:00:00",
         "21.13",
         "21.19",
         "2009",
         "2",
         "25.3965",
         "25.3965"
        ],
        [
         "3",
         "2009-08-04 00:00:00",
         "21.13",
         "21.19",
         "2009",
         "3",
         "25.4037",
         "25.4037"
        ],
        [
         "4",
         "2009-08-05 00:00:00",
         "21.13",
         "21.19",
         "2009",
         "4",
         "25.4109",
         "25.4109"
        ],
        [
         "5",
         "2009-08-06 00:00:00",
         "21.13",
         "21.19",
         "2009",
         "5",
         "25.418100000000003",
         "25.418100000000003"
        ],
        [
         "6",
         "2009-08-07 00:00:00",
         "21.13",
         "21.19",
         "2009",
         "6",
         "25.4253",
         "25.4253"
        ],
        [
         "7",
         "2009-08-08 00:00:00",
         "21.13",
         "21.19",
         "2009",
         "7",
         "25.4325",
         "25.4325"
        ],
        [
         "8",
         "2009-08-09 00:00:00",
         "21.13",
         "21.19",
         "2009",
         "8",
         "25.439700000000002",
         "25.439700000000002"
        ],
        [
         "9",
         "2009-08-10 00:00:00",
         "21.13",
         "21.19",
         "2009",
         "9",
         "25.446900000000003",
         "25.446900000000003"
        ],
        [
         "10",
         "2009-08-11 00:00:00",
         "21.13",
         "21.19",
         "2009",
         "10",
         "25.4541",
         "25.4541"
        ],
        [
         "11",
         "2009-08-12 00:00:00",
         "21.13",
         "21.19",
         "2009",
         "11",
         "25.4613",
         "25.4613"
        ],
        [
         "12",
         "2009-08-13 00:00:00",
         "21.13",
         "21.19",
         "2009",
         "12",
         "25.468500000000002",
         "25.468500000000002"
        ],
        [
         "13",
         "2009-08-14 00:00:00",
         "21.13",
         "21.19",
         "2009",
         "13",
         "25.4757",
         "25.4757"
        ],
        [
         "14",
         "2009-08-15 00:00:00",
         "21.13",
         "21.19",
         "2009",
         "14",
         "25.4829",
         "25.4829"
        ],
        [
         "15",
         "2009-08-16 00:00:00",
         "21.13",
         "21.19",
         "2009",
         "15",
         "25.4901",
         "25.4901"
        ],
        [
         "16",
         "2009-08-17 00:00:00",
         "21.13",
         "21.19",
         "2009",
         "16",
         "25.497300000000003",
         "25.497300000000003"
        ],
        [
         "17",
         "2009-08-18 00:00:00",
         "21.13",
         "21.19",
         "2009",
         "17",
         "25.5045",
         "25.5045"
        ],
        [
         "18",
         "2009-08-19 00:00:00",
         "21.13",
         "21.19",
         "2009",
         "18",
         "25.5117",
         "25.5117"
        ],
        [
         "19",
         "2009-08-20 00:00:00",
         "21.13",
         "21.19",
         "2009",
         "19",
         "25.518900000000002",
         "25.518900000000002"
        ],
        [
         "20",
         "2009-08-21 00:00:00",
         "21.13",
         "21.19",
         "2009",
         "20",
         "25.5261",
         "25.5261"
        ],
        [
         "21",
         "2009-08-22 00:00:00",
         "21.13",
         "21.19",
         "2009",
         "21",
         "25.5333",
         "25.5333"
        ],
        [
         "22",
         "2009-08-23 00:00:00",
         "21.13",
         "21.19",
         "2009",
         "22",
         "25.5405",
         "25.5405"
        ],
        [
         "23",
         "2009-08-24 00:00:00",
         "21.13",
         "21.19",
         "2009",
         "23",
         "25.547700000000003",
         "25.547700000000003"
        ],
        [
         "24",
         "2009-08-25 00:00:00",
         "21.13",
         "21.19",
         "2009",
         "24",
         "25.5549",
         "25.5549"
        ],
        [
         "25",
         "2009-08-26 00:00:00",
         "21.13",
         "21.19",
         "2009",
         "25",
         "25.5621",
         "25.5621"
        ],
        [
         "26",
         "2009-09-21 00:00:00",
         "22.09",
         "22.14",
         "2009",
         "26",
         "25.569300000000002",
         "25.569300000000002"
        ],
        [
         "27",
         "2009-09-22 00:00:00",
         "22.22",
         "22.28",
         "2009",
         "27",
         "25.576500000000003",
         "25.576500000000003"
        ],
        [
         "28",
         "2009-09-23 00:00:00",
         "22.27",
         "22.32",
         "2009",
         "28",
         "25.5837",
         "25.5837"
        ],
        [
         "29",
         "2009-09-24 00:00:00",
         "22.23",
         "22.28",
         "2009",
         "29",
         "25.5909",
         "25.5909"
        ],
        [
         "30",
         "2009-09-25 00:00:00",
         "22.07",
         "22.13",
         "2009",
         "30",
         "25.598100000000002",
         "25.598100000000002"
        ],
        [
         "31",
         "2009-09-26 00:00:00",
         "22.04",
         "22.09",
         "2009",
         "31",
         "25.6053",
         "25.6053"
        ],
        [
         "32",
         "2009-09-27 00:00:00",
         "22.04",
         "22.09",
         "2009",
         "32",
         "25.6125",
         "25.6125"
        ],
        [
         "33",
         "2009-09-28 00:00:00",
         "22.07",
         "22.12",
         "2009",
         "33",
         "25.6197",
         "25.6197"
        ],
        [
         "34",
         "2009-09-29 00:00:00",
         "22.09",
         "22.14",
         "2009",
         "34",
         "25.626900000000003",
         "25.626900000000003"
        ],
        [
         "35",
         "2009-09-30 00:00:00",
         "22.19",
         "22.24",
         "2009",
         "35",
         "25.6341",
         "25.6341"
        ],
        [
         "36",
         "2009-10-01 00:00:00",
         "22.25",
         "22.3",
         "2009",
         "36",
         "25.6413",
         "25.6413"
        ],
        [
         "37",
         "2009-10-02 00:00:00",
         "22.18",
         "22.23",
         "2009",
         "37",
         "25.648500000000002",
         "25.648500000000002"
        ],
        [
         "38",
         "2009-10-03 00:00:00",
         "22.22",
         "22.27",
         "2009",
         "38",
         "25.6557",
         "25.6557"
        ],
        [
         "39",
         "2009-10-04 00:00:00",
         "22.22",
         "22.27",
         "2009",
         "39",
         "25.6629",
         "25.6629"
        ],
        [
         "40",
         "2009-10-05 00:00:00",
         "22.27",
         "22.32",
         "2009",
         "40",
         "25.6701",
         "25.6701"
        ],
        [
         "41",
         "2009-10-06 00:00:00",
         "22.5",
         "22.56",
         "2009",
         "41",
         "25.677300000000002",
         "25.677300000000002"
        ],
        [
         "42",
         "2009-10-07 00:00:00",
         "22.92",
         "22.99",
         "2009",
         "42",
         "25.6845",
         "25.6845"
        ],
        [
         "43",
         "2009-10-08 00:00:00",
         "23.13",
         "23.19",
         "2009",
         "43",
         "25.6917",
         "25.6917"
        ],
        [
         "44",
         "2009-10-09 00:00:00",
         "23.04",
         "23.09",
         "2009",
         "44",
         "25.698900000000002",
         "25.698900000000002"
        ],
        [
         "45",
         "2009-10-10 00:00:00",
         "23.07",
         "23.12",
         "2009",
         "45",
         "25.706100000000003",
         "25.706100000000003"
        ],
        [
         "46",
         "2009-10-11 00:00:00",
         "23.07",
         "23.12",
         "2009",
         "46",
         "25.7133",
         "25.7133"
        ],
        [
         "47",
         "2009-10-12 00:00:00",
         "23.15",
         "23.2",
         "2009",
         "47",
         "25.7205",
         "25.7205"
        ],
        [
         "48",
         "2009-10-13 00:00:00",
         "23.49",
         "23.55",
         "2009",
         "48",
         "25.727700000000002",
         "25.727700000000002"
        ],
        [
         "49",
         "2009-10-14 00:00:00",
         "23.76",
         "23.84",
         "2009",
         "49",
         "25.7349",
         "25.7349"
        ]
       ],
       "shape": {
        "columns": 7,
        "rows": 5502
       }
      },
      "text/html": [
       "<div>\n",
       "<style scoped>\n",
       "    .dataframe tbody tr th:only-of-type {\n",
       "        vertical-align: middle;\n",
       "    }\n",
       "\n",
       "    .dataframe tbody tr th {\n",
       "        vertical-align: top;\n",
       "    }\n",
       "\n",
       "    .dataframe thead th {\n",
       "        text-align: right;\n",
       "    }\n",
       "</style>\n",
       "<table border=\"1\" class=\"dataframe\">\n",
       "  <thead>\n",
       "    <tr style=\"text-align: right;\">\n",
       "      <th></th>\n",
       "      <th>Date</th>\n",
       "      <th>Buy Price</th>\n",
       "      <th>Sell Price</th>\n",
       "      <th>Year</th>\n",
       "      <th>Time</th>\n",
       "      <th>predicted_sales</th>\n",
       "      <th>predicted_buy_price</th>\n",
       "    </tr>\n",
       "  </thead>\n",
       "  <tbody>\n",
       "    <tr>\n",
       "      <th>0</th>\n",
       "      <td>2009-08-01</td>\n",
       "      <td>21.13</td>\n",
       "      <td>21.19</td>\n",
       "      <td>2009</td>\n",
       "      <td>0</td>\n",
       "      <td>25.3821</td>\n",
       "      <td>25.3821</td>\n",
       "    </tr>\n",
       "    <tr>\n",
       "      <th>1</th>\n",
       "      <td>2009-08-02</td>\n",
       "      <td>21.13</td>\n",
       "      <td>21.19</td>\n",
       "      <td>2009</td>\n",
       "      <td>1</td>\n",
       "      <td>25.3893</td>\n",
       "      <td>25.3893</td>\n",
       "    </tr>\n",
       "    <tr>\n",
       "      <th>2</th>\n",
       "      <td>2009-08-03</td>\n",
       "      <td>21.13</td>\n",
       "      <td>21.19</td>\n",
       "      <td>2009</td>\n",
       "      <td>2</td>\n",
       "      <td>25.3965</td>\n",
       "      <td>25.3965</td>\n",
       "    </tr>\n",
       "    <tr>\n",
       "      <th>3</th>\n",
       "      <td>2009-08-04</td>\n",
       "      <td>21.13</td>\n",
       "      <td>21.19</td>\n",
       "      <td>2009</td>\n",
       "      <td>3</td>\n",
       "      <td>25.4037</td>\n",
       "      <td>25.4037</td>\n",
       "    </tr>\n",
       "    <tr>\n",
       "      <th>4</th>\n",
       "      <td>2009-08-05</td>\n",
       "      <td>21.13</td>\n",
       "      <td>21.19</td>\n",
       "      <td>2009</td>\n",
       "      <td>4</td>\n",
       "      <td>25.4109</td>\n",
       "      <td>25.4109</td>\n",
       "    </tr>\n",
       "    <tr>\n",
       "      <th>...</th>\n",
       "      <td>...</td>\n",
       "      <td>...</td>\n",
       "      <td>...</td>\n",
       "      <td>...</td>\n",
       "      <td>...</td>\n",
       "      <td>...</td>\n",
       "      <td>...</td>\n",
       "    </tr>\n",
       "    <tr>\n",
       "      <th>5497</th>\n",
       "      <td>2024-12-28</td>\n",
       "      <td>82.80</td>\n",
       "      <td>85.30</td>\n",
       "      <td>2024</td>\n",
       "      <td>5497</td>\n",
       "      <td>64.9605</td>\n",
       "      <td>64.9605</td>\n",
       "    </tr>\n",
       "    <tr>\n",
       "      <th>5498</th>\n",
       "      <td>2024-12-29</td>\n",
       "      <td>82.80</td>\n",
       "      <td>85.30</td>\n",
       "      <td>2024</td>\n",
       "      <td>5498</td>\n",
       "      <td>64.9677</td>\n",
       "      <td>64.9677</td>\n",
       "    </tr>\n",
       "    <tr>\n",
       "      <th>5499</th>\n",
       "      <td>2024-12-30</td>\n",
       "      <td>82.80</td>\n",
       "      <td>85.30</td>\n",
       "      <td>2024</td>\n",
       "      <td>5499</td>\n",
       "      <td>64.9749</td>\n",
       "      <td>64.9749</td>\n",
       "    </tr>\n",
       "    <tr>\n",
       "      <th>5500</th>\n",
       "      <td>2024-12-31</td>\n",
       "      <td>82.80</td>\n",
       "      <td>85.30</td>\n",
       "      <td>2024</td>\n",
       "      <td>5500</td>\n",
       "      <td>64.9821</td>\n",
       "      <td>64.9821</td>\n",
       "    </tr>\n",
       "    <tr>\n",
       "      <th>5501</th>\n",
       "      <td>2025-01-01</td>\n",
       "      <td>82.80</td>\n",
       "      <td>85.30</td>\n",
       "      <td>2025</td>\n",
       "      <td>5501</td>\n",
       "      <td>64.9893</td>\n",
       "      <td>64.9893</td>\n",
       "    </tr>\n",
       "  </tbody>\n",
       "</table>\n",
       "<p>5502 rows × 7 columns</p>\n",
       "</div>"
      ],
      "text/plain": [
       "           Date  Buy Price  Sell Price  Year  Time  predicted_sales  \\\n",
       "0    2009-08-01      21.13       21.19  2009     0          25.3821   \n",
       "1    2009-08-02      21.13       21.19  2009     1          25.3893   \n",
       "2    2009-08-03      21.13       21.19  2009     2          25.3965   \n",
       "3    2009-08-04      21.13       21.19  2009     3          25.4037   \n",
       "4    2009-08-05      21.13       21.19  2009     4          25.4109   \n",
       "...         ...        ...         ...   ...   ...              ...   \n",
       "5497 2024-12-28      82.80       85.30  2024  5497          64.9605   \n",
       "5498 2024-12-29      82.80       85.30  2024  5498          64.9677   \n",
       "5499 2024-12-30      82.80       85.30  2024  5499          64.9749   \n",
       "5500 2024-12-31      82.80       85.30  2024  5500          64.9821   \n",
       "5501 2025-01-01      82.80       85.30  2025  5501          64.9893   \n",
       "\n",
       "      predicted_buy_price  \n",
       "0                 25.3821  \n",
       "1                 25.3893  \n",
       "2                 25.3965  \n",
       "3                 25.4037  \n",
       "4                 25.4109  \n",
       "...                   ...  \n",
       "5497              64.9605  \n",
       "5498              64.9677  \n",
       "5499              64.9749  \n",
       "5500              64.9821  \n",
       "5501              64.9893  \n",
       "\n",
       "[5502 rows x 7 columns]"
      ]
     },
     "execution_count": 13,
     "metadata": {},
     "output_type": "execute_result"
    }
   ],
   "source": [
    "# R-squared: 0.635 \n",
    "# và coef: const 25.3821 và Time 0.0072\n",
    "\n",
    "import pandas as pd\n",
    "\n",
    "# Hệ số hồi quy\n",
    "const = 25.3821\n",
    "coef_Time = 0.0072\n",
    "\n",
    "# Tính giá trị dự báo\n",
    "df['predicted_buy_price'] = const + coef_Time * df['Time']\n",
    "\n",
    "# Hiển thị DataFrame\n",
    "df"
   ]
  }
 ],
 "metadata": {
  "kernelspec": {
   "display_name": "Python 3",
   "language": "python",
   "name": "python3"
  },
  "language_info": {
   "codemirror_mode": {
    "name": "ipython",
    "version": 3
   },
   "file_extension": ".py",
   "mimetype": "text/x-python",
   "name": "python",
   "nbconvert_exporter": "python",
   "pygments_lexer": "ipython3",
   "version": "3.13.2"
  }
 },
 "nbformat": 4,
 "nbformat_minor": 5
}
