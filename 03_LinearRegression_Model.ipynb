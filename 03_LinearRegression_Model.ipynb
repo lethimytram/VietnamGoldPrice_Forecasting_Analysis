{
 "cells": [
  {
   "cell_type": "code",
   "execution_count": null,
   "id": "ca1f9aab",
   "metadata": {},
   "outputs": [],
   "source": [
    "!pip install pmdarima"
   ]
  },
  {
   "cell_type": "code",
   "execution_count": null,
   "id": "436ae7d9",
   "metadata": {},
   "outputs": [],
   "source": [
    "import numpy as np\n",
    "import pandas as pd\n",
    "import numpy as np\n",
    "import pmdarima as pm\n",
    "import matplotlib.pyplot as plt\n",
    "import seaborn as sns"
   ]
  },
  {
   "cell_type": "code",
   "execution_count": null,
   "id": "9c265799",
   "metadata": {},
   "outputs": [],
   "source": [
    "# Đọc dữ liệu\n",
    "df_clean = pd.read_csv(\"gold_prices_cleaned.csv\")\n",
    "# Vì kiểu dữ liệu cột Date đang ở dạng object\n",
    "# -> Chuyển kiểu dữ liệu cột Date sang datetime\n",
    "df_clean['Date'] = pd.to_datetime(df_clean['Date'])\n",
    "df_clean.dtypes\n",
    "# Đảm bảo dữ liệu được sắp xếp theo thời gian\n",
    "df_clean = df_clean.sort_values(by='Date')"
   ]
  },
  {
   "cell_type": "markdown",
   "id": "d83c1d75",
   "metadata": {},
   "source": [
    "# Xây dựng và đánh giá mô hình LinearRegression_Model\n",
    "*Nhằm so sánh với mô hình ARIMA, để thấy vì sao ARIMA phù hợp hơn*"
   ]
  },
  {
   "cell_type": "markdown",
   "id": "7c2dd4c6",
   "metadata": {},
   "source": [
    "## 1. Thêm cột Time"
   ]
  },
  {
   "cell_type": "code",
   "execution_count": null,
   "id": "3e33c60e",
   "metadata": {},
   "outputs": [
    {
     "data": {
      "application/vnd.microsoft.datawrangler.viewer.v0+json": {
       "columns": [
        {
         "name": "index",
         "rawType": "int64",
         "type": "integer"
        },
        {
         "name": "Date",
         "rawType": "datetime64[ns]",
         "type": "datetime"
        },
        {
         "name": "Buy Price",
         "rawType": "float64",
         "type": "float"
        },
        {
         "name": "Sell Price",
         "rawType": "float64",
         "type": "float"
        },
        {
         "name": "Time",
         "rawType": "int64",
         "type": "integer"
        }
       ],
       "ref": "e740aa48-54c4-4ff4-9952-f1e978a6d80f",
       "rows": [
        [
         "0",
         "2009-08-01 00:00:00",
         "21.13",
         "21.19",
         "0"
        ],
        [
         "1",
         "2009-08-02 00:00:00",
         "21.13",
         "21.19",
         "1"
        ],
        [
         "2",
         "2009-08-03 00:00:00",
         "21.13",
         "21.19",
         "2"
        ],
        [
         "3",
         "2009-08-04 00:00:00",
         "21.13",
         "21.19",
         "3"
        ],
        [
         "4",
         "2009-08-05 00:00:00",
         "21.13",
         "21.19",
         "4"
        ]
       ],
       "shape": {
        "columns": 4,
        "rows": 5
       }
      },
      "text/html": [
       "<div>\n",
       "<style scoped>\n",
       "    .dataframe tbody tr th:only-of-type {\n",
       "        vertical-align: middle;\n",
       "    }\n",
       "\n",
       "    .dataframe tbody tr th {\n",
       "        vertical-align: top;\n",
       "    }\n",
       "\n",
       "    .dataframe thead th {\n",
       "        text-align: right;\n",
       "    }\n",
       "</style>\n",
       "<table border=\"1\" class=\"dataframe\">\n",
       "  <thead>\n",
       "    <tr style=\"text-align: right;\">\n",
       "      <th></th>\n",
       "      <th>Date</th>\n",
       "      <th>Buy Price</th>\n",
       "      <th>Sell Price</th>\n",
       "      <th>Time</th>\n",
       "    </tr>\n",
       "  </thead>\n",
       "  <tbody>\n",
       "    <tr>\n",
       "      <th>0</th>\n",
       "      <td>2009-08-01</td>\n",
       "      <td>21.13</td>\n",
       "      <td>21.19</td>\n",
       "      <td>0</td>\n",
       "    </tr>\n",
       "    <tr>\n",
       "      <th>1</th>\n",
       "      <td>2009-08-02</td>\n",
       "      <td>21.13</td>\n",
       "      <td>21.19</td>\n",
       "      <td>1</td>\n",
       "    </tr>\n",
       "    <tr>\n",
       "      <th>2</th>\n",
       "      <td>2009-08-03</td>\n",
       "      <td>21.13</td>\n",
       "      <td>21.19</td>\n",
       "      <td>2</td>\n",
       "    </tr>\n",
       "    <tr>\n",
       "      <th>3</th>\n",
       "      <td>2009-08-04</td>\n",
       "      <td>21.13</td>\n",
       "      <td>21.19</td>\n",
       "      <td>3</td>\n",
       "    </tr>\n",
       "    <tr>\n",
       "      <th>4</th>\n",
       "      <td>2009-08-05</td>\n",
       "      <td>21.13</td>\n",
       "      <td>21.19</td>\n",
       "      <td>4</td>\n",
       "    </tr>\n",
       "  </tbody>\n",
       "</table>\n",
       "</div>"
      ],
      "text/plain": [
       "        Date  Buy Price  Sell Price  Time\n",
       "0 2009-08-01      21.13       21.19     0\n",
       "1 2009-08-02      21.13       21.19     1\n",
       "2 2009-08-03      21.13       21.19     2\n",
       "3 2009-08-04      21.13       21.19     3\n",
       "4 2009-08-05      21.13       21.19     4"
      ]
     },
     "execution_count": 5,
     "metadata": {},
     "output_type": "execute_result"
    }
   ],
   "source": [
    "import numpy as np\n",
    "df_clean['Time'] = np.arange(len(df_clean.index))\n",
    "df_clean.head()"
   ]
  },
  {
   "cell_type": "markdown",
   "id": "eed49190",
   "metadata": {},
   "source": [
    "## 2. Xây dựng mô hình"
   ]
  },
  {
   "cell_type": "markdown",
   "id": "36df5b3f",
   "metadata": {},
   "source": [
    "### Giá mua"
   ]
  },
  {
   "cell_type": "code",
   "execution_count": null,
   "id": "2f0b74dc",
   "metadata": {},
   "outputs": [
    {
     "data": {
      "image/png": "[encoded data removed]",
      "text/plain": [
       "<Figure size 640x480 with 1 Axes>"
      ]
     },
     "metadata": {},
     "output_type": "display_data"
    }
   ],
   "source": [
    "from sklearn.linear_model import LinearRegression\n",
    "# Xác định các giá trị dự đoán\n",
    "# Dữ liệu huấn luyện\n",
    "X = df_clean.loc[:, ['Time']]  # đặc trưng\n",
    "y = df_clean.loc[:, 'Buy Price']  # mục tiêu\n",
    "\n",
    "# Huấn luyện mô hình\n",
    "model = LinearRegression()\n",
    "model.fit(X, y)\n",
    "\n",
    "# Lưu các giá trị dự đoán dưới dạng chuỗi thời gian với cùng chỉ số thời gian như dữ liệu huấn luyện\n",
    "y_pred_Buy = pd.Series(model.predict(X), index=X.index)\n",
    "\n",
    "# Vẽ biểu đồ cho y và y dự đoán\n",
    "ax = y.plot()\n",
    "ax = y_pred_Buy.plot(ax=ax, linewidth=3)\n",
    "ax.set_title('Time Plot of Buy Price');"
   ]
  },
  {
   "cell_type": "markdown",
   "id": "aa3c180a",
   "metadata": {},
   "source": [
    "### Giá bán"
   ]
  },
  {
   "cell_type": "code",
   "execution_count": 18,
   "id": "78835d0a",
   "metadata": {},
   "outputs": [
    {
     "data": {
      "image/png": "[encoded data removed]",
      "text/plain": [
       "<Figure size 640x480 with 1 Axes>"
      ]
     },
     "metadata": {},
     "output_type": "display_data"
    }
   ],
   "source": [
    "# Huấn luyện mô hình\n",
    "model = LinearRegression()\n",
    "model.fit(X, y)\n",
    "\n",
    "# Lưu các giá trị dự đoán dưới dạng chuỗi thời gian với cùng chỉ số thời gian như dữ liệu huấn luyện\n",
    "y_predSell = pd.Series(model.predict(X), index=X.index)\n",
    "\n",
    "# Vẽ biểu đồ cho y và y dự đoán\n",
    "ax = y.plot()\n",
    "ax = y_predSell.plot(ax=ax, linewidth=3)\n",
    "ax.set_title('Time Plot of Sell Price');"
   ]
  },
  {
   "cell_type": "markdown",
   "id": "4a2785bc",
   "metadata": {},
   "source": [
    "## 3. Đánh giá mô hình Linear Regression"
   ]
  },
  {
   "cell_type": "markdown",
   "id": "7440db5f",
   "metadata": {},
   "source": [
    "### Giá mua"
   ]
  },
  {
   "cell_type": "code",
   "execution_count": 25,
   "id": "db0832a8",
   "metadata": {},
   "outputs": [
    {
     "name": "stdout",
     "output_type": "stream",
     "text": [
      "MAD (Buy Price): 7.319092739280633\n",
      "SSE (Buy Price): 408894.5784644048\n"
     ]
    }
   ],
   "source": [
    "# Tính MAD (Mean Absolute Deviation - Độ lệch tuyệt đối trung bình)\n",
    "mad = (y - y_pred_Buy).abs().mean()\n",
    "\n",
    "# Tính SSE (Sum of Squared Errors - Tổng bình phương sai số)\n",
    "sse = ((y - y_pred_Buy) ** 2).sum()\n",
    "\n",
    "print(f\"MAD (Buy Price): {mad}\")\n",
    "print(f\"SSE (Buy Price): {sse}\")"
   ]
  },
  {
   "cell_type": "markdown",
   "id": "bfdb507f",
   "metadata": {},
   "source": [
    "### Giá bán"
   ]
  },
  {
   "cell_type": "code",
   "execution_count": 26,
   "id": "d228f2eb",
   "metadata": {},
   "outputs": [
    {
     "name": "stdout",
     "output_type": "stream",
     "text": [
      "MAD (Sell Price): 7.319092739280633\n",
      "SSE (Sell Price): 408894.5784644048\n"
     ]
    }
   ],
   "source": [
    "# Tính MAD (Mean Absolute Deviation - Độ lệch tuyệt đối trung bình)\n",
    "mad = (y - y_pred_Sell).abs().mean()\n",
    "\n",
    "# Tính SSE (Sum of Squared Errors - Tổng bình phương sai số)\n",
    "sse = ((y - y_pred_Sell) ** 2).sum()\n",
    "\n",
    "print(f\"MAD (Sell Price): {mad}\")\n",
    "print(f\"SSE (Sell Price): {sse}\")\n"
   ]
  }
 ],
 "metadata": {
  "kernelspec": {
   "display_name": "Python 3",
   "language": "python",
   "name": "python3"
  },
  "language_info": {
   "codemirror_mode": {
    "name": "ipython",
    "version": 3
   },
   "file_extension": ".py",
   "mimetype": "text/x-python",
   "name": "python",
   "nbconvert_exporter": "python",
   "pygments_lexer": "ipython3",
   "version": "3.13.2"
  }
 },
 "nbformat": 4,
 "nbformat_minor": 5
}
