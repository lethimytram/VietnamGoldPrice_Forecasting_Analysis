{
 "cells": [
  {
   "cell_type": "markdown",
   "id": "0751c688",
   "metadata": {},
   "source": [
    "# Requirement"
   ]
  },
  {
   "cell_type": "code",
   "execution_count": null,
   "id": "d161a47a",
   "metadata": {},
   "outputs": [],
   "source": [
    "%pip install numpy==1.25\n",
    "%pip install pandas==2.2.2\n",
    "%pip install pmdarima"
   ]
  },
  {
   "cell_type": "markdown",
   "id": "d0cc72a1",
   "metadata": {},
   "source": [
    "# Import necessary libraries"
   ]
  },
  {
   "cell_type": "code",
   "execution_count": 26,
   "id": "cb1bd670",
   "metadata": {},
   "outputs": [],
   "source": [
    "import pandas as pd\n",
    "import matplotlib.pyplot as plt\n",
    "import seaborn as sns"
   ]
  },
  {
   "cell_type": "markdown",
   "id": "b92b60c2",
   "metadata": {},
   "source": [
    "## 1. Data Overview and Cleaning"
   ]
  },
  {
   "cell_type": "code",
   "execution_count": 18,
   "id": "dec646b4",
   "metadata": {},
   "outputs": [
    {
     "name": "stdout",
     "output_type": "stream",
     "text": [
      "         Date  Buy Price (x1000đ/lượng)  Sell Price (x1000đ/lượng)\n",
      "0  2009-08-01                     21.13                      21.19\n",
      "1  2009-08-02                     21.13                      21.19\n",
      "2  2009-08-03                     21.13                      21.19\n",
      "3  2009-08-04                     21.13                      21.19\n",
      "4  2009-08-05                     21.13                      21.19\n",
      "            Date  Buy Price (x1000đ/lượng)  Sell Price (x1000đ/lượng)\n",
      "5560  2024-12-28                      82.8                       85.3\n",
      "5561  2024-12-29                      82.8                       85.3\n",
      "5562  2024-12-30                      82.8                       85.3\n",
      "5563  2024-12-31                      82.8                       85.3\n",
      "5564  2025-01-01                      82.8                       85.3\n",
      "\n",
      "Thông tin dữ liệu:\n",
      "<class 'pandas.core.frame.DataFrame'>\n",
      "RangeIndex: 5565 entries, 0 to 5564\n",
      "Data columns (total 3 columns):\n",
      " #   Column                     Non-Null Count  Dtype  \n",
      "---  ------                     --------------  -----  \n",
      " 0   Date                       5565 non-null   object \n",
      " 1   Buy Price (x1000đ/lượng)   5565 non-null   float64\n",
      " 2   Sell Price (x1000đ/lượng)  5565 non-null   float64\n",
      "dtypes: float64(2), object(1)\n",
      "memory usage: 130.6+ KB\n",
      "\n",
      "Thống kê mô tả dữ liệu:\n",
      "       Buy Price (x1000đ/lượng)  Sell Price (x1000đ/lượng)\n",
      "count               5565.000000                5565.000000\n",
      "mean                  45.565700                  46.017668\n",
      "std                   14.892835                  15.353834\n",
      "min                   21.130000                  21.190000\n",
      "25%                   35.930000                  36.170000\n",
      "50%                   37.700000                  37.850000\n",
      "75%                   55.900000                  56.450000\n",
      "max                   89.000000                  91.300000\n"
     ]
    }
   ],
   "source": [
    "# Đọc dữ liệu\n",
    "df = pd.read_csv(\"gold_prices.csv\")\n",
    "\n",
    "# Xem 5 dòng đầu và cuối\n",
    "print(df.head())\n",
    "print(df.tail(5))\n",
    "print(\"\\nThông tin dữ liệu:\")\n",
    "df.info()\n",
    "print(\"\\nThống kê mô tả dữ liệu:\")\n",
    "print(df.describe())\n",
    "#Đổi tên cột\n",
    "df.rename(columns={\n",
    "    'Buy Price (x1000đ/lượng)': 'Buy Price',\n",
    "    'Sell Price (x1000đ/lượng)': 'Sell Price'\n",
    "}, inplace=True)"
   ]
  },
  {
   "cell_type": "markdown",
   "id": "4a549c0c",
   "metadata": {},
   "source": [
    "# 2. Data Preprocessing"
   ]
  },
  {
   "cell_type": "code",
   "execution_count": 19,
   "id": "fcb794b4",
   "metadata": {},
   "outputs": [
    {
     "name": "stdout",
     "output_type": "stream",
     "text": [
      "Số lượng giá trị thiếu trong mỗi cột:\n",
      "Date          0\n",
      "Buy Price     0\n",
      "Sell Price    0\n",
      "dtype: int64\n"
     ]
    }
   ],
   "source": [
    "# Kiểm tra giá trị thiếu\n",
    "missing_values = df.isnull().sum()\n",
    "print(\"Số lượng giá trị thiếu trong mỗi cột:\")\n",
    "print(missing_values)"
   ]
  },
  {
   "cell_type": "code",
   "execution_count": 20,
   "id": "276acd53",
   "metadata": {},
   "outputs": [
    {
     "data": {
      "image/png": "[encoded data removed]",
      "text/plain": [
       "<Figure size 1000x400 with 1 Axes>"
      ]
     },
     "metadata": {},
     "output_type": "display_data"
    }
   ],
   "source": [
    "# Lọc các cột số liệu\n",
    "numeric_columns = df.select_dtypes(include=['float64', 'int64']).columns\n",
    "\n",
    "# Vẽ boxplot\n",
    "plt.figure(figsize=(10, 4))\n",
    "sns.boxplot(data=df[numeric_columns])\n",
    "plt.title('Boxplot for Detecting Outliers')\n",
    "plt.xticks(rotation=45)\n",
    "plt.ylabel('Giá trị')\n",
    "plt.show()"
   ]
  },
  {
   "cell_type": "code",
   "execution_count": 21,
   "id": "66bfa87d",
   "metadata": {},
   "outputs": [],
   "source": [
    "# Vì kiểu dữ liệu cột Date đang ở dạng object\n",
    "# -> Chuyển kiểu dữ liệu cột Date sang datetime\n",
    "df['Date'] = pd.to_datetime(df['Date'])\n",
    "df.dtypes\n",
    "# Đảm bảo dữ liệu được sắp xếp theo thời gian\n",
    "df = df.sort_values(by='Date')"
   ]
  },
  {
   "cell_type": "code",
   "execution_count": 23,
   "id": "193452f4",
   "metadata": {},
   "outputs": [
    {
     "name": "stdout",
     "output_type": "stream",
     "text": [
      "0\n",
      "0\n",
      "Date          datetime64[ns]\n",
      "Buy Price            float64\n",
      "Sell Price           float64\n",
      "dtype: object\n"
     ]
    }
   ],
   "source": [
    "# Kiểm tra Buy Price  và Sell Price có giá trị âm không\n",
    "dem_BuyPrice_am = df[df['Buy Price'] < 0].shape[0]\n",
    "print(dem_BuyPrice_am)\n",
    "dem_SellPrice_am = df[df['Sell Price'] < 0].shape[0]\n",
    "print(dem_SellPrice_am)\n",
    "#Xử lý bằng cách: Thay thế giá trị âm bằng giá trị trung bình của cột\n",
    "mean_buy = df[df['Buy Price'] >= 0]['Buy Price'].mean()\n",
    "mean_sell = df[df['Sell Price'] >= 0]['Sell Price'].mean()\n",
    "df['Buy Price'] = df['Buy Price'].apply(lambda x: mean_buy if x < 0 else x)\n",
    "df['Sell Price'] = df['Sell Price'].apply(lambda x: mean_sell if x < 0 else x)\n",
    "# Kiểm tra lại giá trị âm\n",
    "print(df.dtypes)"
   ]
  },
  {
   "cell_type": "code",
   "execution_count": 24,
   "id": "61ce258f",
   "metadata": {},
   "outputs": [
    {
     "name": "stdout",
     "output_type": "stream",
     "text": [
      "Kích thước dữ liệu trước khi xử lý outliers: (5565, 3)\n",
      "Kích thước dữ liệu sau khi xử lý outliers: (5501, 3)\n"
     ]
    }
   ],
   "source": [
    "# In kích thước ban đầu\n",
    "print(f\"Kích thước dữ liệu trước khi xử lý outliers: {df.shape}\")\n",
    "\n",
    "# Copy dataframe\n",
    "df_clean = df.copy()\n",
    "\n",
    "# Chọn các cột số cần xử lý\n",
    "cols = ['Buy Price', 'Sell Price']\n",
    "\n",
    "for col in cols:\n",
    "    Q1 = df_clean[col].quantile(0.25)\n",
    "    Q3 = df_clean[col].quantile(0.75)\n",
    "    IQR = Q3 - Q1\n",
    "    lower_bound = Q1 - 1.5 * IQR\n",
    "    upper_bound = Q3 + 1.5 * IQR\n",
    "    df_clean = df_clean[(df_clean[col] >= lower_bound) & (df_clean[col] <= upper_bound)]\n",
    "\n",
    "# In kích thước sau xử lý\n",
    "print(f\"Kích thước dữ liệu sau khi xử lý outliers: {df_clean.shape}\")\n"
   ]
  },
  {
   "cell_type": "code",
   "execution_count": 25,
   "id": "4385d6e4",
   "metadata": {},
   "outputs": [],
   "source": [
    "# Xuất ra dữ liệu đã xử lý\n",
    "df_clean.to_csv(\"gold_prices_cleaned.csv\", index=False)"
   ]
  }
 ],
 "metadata": {
  "kernelspec": {
   "display_name": "Python 3",
   "language": "python",
   "name": "python3"
  },
  "language_info": {
   "codemirror_mode": {
    "name": "ipython",
    "version": 3
   },
   "file_extension": ".py",
   "mimetype": "text/x-python",
   "name": "python",
   "nbconvert_exporter": "python",
   "pygments_lexer": "ipython3",
   "version": "3.13.2"
  }
 },
 "nbformat": 4,
 "nbformat_minor": 5
}
