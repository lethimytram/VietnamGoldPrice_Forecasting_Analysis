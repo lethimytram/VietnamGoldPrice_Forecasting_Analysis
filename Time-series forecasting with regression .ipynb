{
 "cells": [
  {
   "cell_type": "markdown",
   "id": "8af952a1",
   "metadata": {},
   "source": [
    "# Tiền xử lý dữ liệu (Code của nhóm)"
   ]
  },
  {
   "cell_type": "code",
   "execution_count": null,
   "id": "e69d1374",
   "metadata": {},
   "outputs": [
    {
     "name": "stdout",
     "output_type": "stream",
     "text": [
      "         Date  Buy Price (x1000đ/lượng)  Sell Price (x1000đ/lượng)\n",
      "0  2009-08-01                     21.13                      21.19\n",
      "1  2009-08-02                     21.13                      21.19\n",
      "2  2009-08-03                     21.13                      21.19\n",
      "3  2009-08-04                     21.13                      21.19\n",
      "4  2009-08-05                     21.13                      21.19\n",
      "            Date  Buy Price (x1000đ/lượng)  Sell Price (x1000đ/lượng)\n",
      "5560  2024-12-28                      82.8                       85.3\n",
      "5561  2024-12-29                      82.8                       85.3\n",
      "5562  2024-12-30                      82.8                       85.3\n",
      "5563  2024-12-31                      82.8                       85.3\n",
      "5564  2025-01-01                      82.8                       85.3\n",
      "\n",
      "Thông tin dữ liệu:\n",
      "<class 'pandas.core.frame.DataFrame'>\n",
      "RangeIndex: 5565 entries, 0 to 5564\n",
      "Data columns (total 3 columns):\n",
      " #   Column                     Non-Null Count  Dtype  \n",
      "---  ------                     --------------  -----  \n",
      " 0   Date                       5565 non-null   object \n",
      " 1   Buy Price (x1000đ/lượng)   5565 non-null   float64\n",
      " 2   Sell Price (x1000đ/lượng)  5565 non-null   float64\n",
      "dtypes: float64(2), object(1)\n",
      "memory usage: 130.6+ KB\n",
      "\n",
      "Thống kê mô tả dữ liệu:\n",
      "       Buy Price (x1000đ/lượng)  Sell Price (x1000đ/lượng)\n",
      "count               5565.000000                5565.000000\n",
      "mean                  45.565700                  46.017668\n",
      "std                   14.892835                  15.353834\n",
      "min                   21.130000                  21.190000\n",
      "25%                   35.930000                  36.170000\n",
      "50%                   37.700000                  37.850000\n",
      "75%                   55.900000                  56.450000\n",
      "max                   89.000000                  91.300000\n",
      "Số lượng giá trị thiếu trong mỗi cột:\n",
      "Date          0\n",
      "Buy Price     0\n",
      "Sell Price    0\n",
      "dtype: int64\n"
     ]
    },
    {
     "data": {
      "image/png": "[encoded data removed]",
      "text/plain": [
       "<Figure size 1000x400 with 1 Axes>"
      ]
     },
     "metadata": {},
     "output_type": "display_data"
    },
    {
     "name": "stdout",
     "output_type": "stream",
     "text": [
      "0\n",
      "0\n",
      "Date          datetime64[ns]\n",
      "Buy Price            float64\n",
      "Sell Price           float64\n",
      "dtype: object\n",
      "Kích thước dữ liệu trước khi xử lý outliers: (5565, 3)\n",
      "Kích thước dữ liệu sau khi xử lý outliers: (5502, 3)\n"
     ]
    }
   ],
   "source": [
    "import pandas as pd\n",
    "import numpy as np\n",
    "import matplotlib.pyplot as plt\n",
    "import seaborn as sns \n",
    "import scipy.stats as stats\n",
    "\n",
    "# Đọc dữ liệu\n",
    "df_clean = pd.read_csv(\"gold_prices.csv\")\n",
    "\n",
    "# Xem 5 dòng đầu và cuối\n",
    "print(df_clean.head())\n",
    "print(df_clean.tail(5))\n",
    "print(\"\\nThông tin dữ liệu:\")\n",
    "df_clean.info()\n",
    "print(\"\\nThống kê mô tả dữ liệu:\")\n",
    "print(df_clean.describe())\n",
    "#Đổi tên cột\n",
    "df_clean.rename(columns={\n",
    "    'Buy Price (x1000đ/lượng)': 'Buy Price',\n",
    "    'Sell Price (x1000đ/lượng)': 'Sell Price'\n",
    "}, inplace=True)\n",
    "# Kiểm tra giá trị thiếu\n",
    "missing_values = df_clean.isnull().sum()\n",
    "print(\"Số lượng giá trị thiếu trong mỗi cột:\")\n",
    "print(missing_values)\n",
    "\n",
    "\n",
    "# Lọc các cột số liệu\n",
    "numeric_columns = df_clean.select_dtypes(include=['float64', 'int64']).columns\n",
    "\n",
    "# Vẽ boxplot\n",
    "plt.figure(figsize=(10, 4))\n",
    "sns.boxplot(data=df_clean[numeric_columns])\n",
    "plt.title('Boxplot for Detecting Outliers')\n",
    "plt.xticks(rotation=45)\n",
    "plt.ylabel('Giá trị')\n",
    "plt.show()\n",
    "# Vì kiểu dữ liệu cột Date đang ở dạng object\n",
    "# -> Chuyển kiểu dữ liệu cột Date sang datetime\n",
    "df_clean['Date'] = pd.to_datetime(df_clean['Date'])\n",
    "df_clean.dtypes\n",
    "# Đảm bảo dữ liệu được sắp xếp theo thời gian\n",
    "df_clean = df_clean.sort_values(by='Date')\n",
    "# Vì kiểu dữ liệu cột Date đang ở dạng object\n",
    "# -> Chuyển kiểu dữ liệu cột Date sang datetime\n",
    "df_clean['Date'] = pd.to_datetime(df_clean['Date'])\n",
    "df_clean.dtypes\n",
    "# Đảm bảo dữ liệu được sắp xếp theo thời gian\n",
    "df_clean = df_clean.sort_values(by='Date')\n",
    "# Kiểm tra Buy Price  và Sell Price có giá trị âm không\n",
    "dem_BuyPrice_am = df_clean[df_clean['Buy Price'] < 0].shape[0]\n",
    "print(dem_BuyPrice_am)\n",
    "\n",
    "dem_SellPrice_am = df_clean[df_clean['Sell Price'] < 0].shape[0]\n",
    "print(dem_SellPrice_am)\n",
    "#Xử lý bằng cách: Thay thế giá trị âm bằng giá trị trung bình của cột\n",
    "mean_buy = df_clean[df_clean['Buy Price'] >= 0]['Buy Price'].mean()\n",
    "mean_sell = df_clean[df_clean['Sell Price'] >= 0]['Sell Price'].mean()\n",
    "df_clean['Buy Price'] = df_clean['Buy Price'].apply(lambda x: mean_buy if x < 0 else x)\n",
    "df_clean['Sell Price'] = df_clean['Sell Price'].apply(lambda x: mean_sell if x < 0 else x)\n",
    "\n",
    "\n",
    "print(df_clean.dtypes)\n",
    "\n",
    "# In kích thước ban đầu\n",
    "print(f\"Kích thước dữ liệu trước khi xử lý outliers: {df_clean.shape}\")\n",
    "\n",
    "# Copy dataframe\n",
    "df_clean_clean = df_clean.copy()\n",
    "\n",
    "# Chọn các cột số cần xử lý\n",
    "cols = ['Buy Price', 'Sell Price']\n",
    "\n",
    "for col in cols:\n",
    "    Q1 = df_clean_clean['Buy Price'].quantile(0.25)\n",
    "    Q3 = df_clean_clean['Sell Price'].quantile(0.75)\n",
    "    IQR = Q3 - Q1\n",
    "    lower_bound = Q1 - 1.5 * IQR\n",
    "    upper_bound = Q3 + 1.5 * IQR\n",
    "    df_clean_clean = df_clean_clean[(df_clean_clean[col] >= lower_bound) & (df_clean_clean[col] <= upper_bound)]\n",
    "\n",
    "# In kích thước sau xử lý\n",
    "print(f\"Kích thước dữ liệu sau khi xử lý outliers: {df_clean_clean.shape}\")\n",
    "df_clean_clean.to_csv(\"gold_prices_clean.csv\", index=False)"
   ]
  },
  {
   "cell_type": "markdown",
   "id": "b8f10a8e",
   "metadata": {},
   "source": [
    "# Đánh giá dữ liệu trước khi thực hiện thuật toán\n"
   ]
  },
  {
   "cell_type": "code",
   "execution_count": 8,
   "id": "095dc6ba",
   "metadata": {},
   "outputs": [
    {
     "data": {
      "image/png": "[encoded data removed]",
      "text/plain": [
       "<Figure size 1200x600 with 1 Axes>"
      ]
     },
     "metadata": {},
     "output_type": "display_data"
    }
   ],
   "source": [
    "#Biểu đồ đường: Xu hướng giá theo thời gian (Rolling Statistics Plot)\n",
    "\n",
    "import matplotlib.pyplot as plt\n",
    "\n",
    "# Chuyển đổi cột 'Date' sang kiểu datetime\n",
    "df_clean['Date'] = pd.to_datetime(df_clean['Date'])\n",
    "\n",
    "# Thiết lập trục thời gian làm chỉ số\n",
    "df_clean.set_index('Date', inplace=True)\n",
    "\n",
    "# Vẽ biểu đồ xu hướng giá mua và bán theo thời gian\n",
    "plt.figure(figsize=(12, 6))\n",
    "plt.plot(df_clean.index, df_clean['Buy Price'], label='Giá mua', color='blue')\n",
    "plt.plot(df_clean.index, df_clean['Sell Price'], label='Giá bán', color='orange')\n",
    "plt.title('Xu hướng giá vàng theo thời gian')\n",
    "plt.xlabel('Thời gian')\n",
    "plt.ylabel('Giá (nghìn đồng/lượng)')\n",
    "plt.legend()\n",
    "plt.grid(True)\n",
    "plt.show()\n"
   ]
  },
  {
   "cell_type": "markdown",
   "id": "de06cbcd",
   "metadata": {},
   "source": [
    "# Time-series forecasting with regression vs (MAD + SSE)"
   ]
  },
  {
   "cell_type": "code",
   "execution_count": 2,
   "id": "17d3860c",
   "metadata": {},
   "outputs": [
    {
     "data": {
      "application/vnd.microsoft.datawrangler.viewer.v0+json": {
       "columns": [
        {
         "name": "index",
         "rawType": "int64",
         "type": "integer"
        },
        {
         "name": "Date",
         "rawType": "object",
         "type": "string"
        },
        {
         "name": "Buy Price",
         "rawType": "float64",
         "type": "float"
        },
        {
         "name": "Sell Price",
         "rawType": "float64",
         "type": "float"
        }
       ],
       "ref": "3884730d-5e6f-4909-8f60-b873922ee1ac",
       "rows": [
        [
         "0",
         "2009-08-01",
         "21.13",
         "21.19"
        ],
        [
         "1",
         "2009-08-02",
         "21.13",
         "21.19"
        ],
        [
         "2",
         "2009-08-03",
         "21.13",
         "21.19"
        ],
        [
         "3",
         "2009-08-04",
         "21.13",
         "21.19"
        ],
        [
         "4",
         "2009-08-05",
         "21.13",
         "21.19"
        ],
        [
         "5",
         "2009-08-06",
         "21.13",
         "21.19"
        ],
        [
         "6",
         "2009-08-07",
         "21.13",
         "21.19"
        ],
        [
         "7",
         "2009-08-08",
         "21.13",
         "21.19"
        ],
        [
         "8",
         "2009-08-09",
         "21.13",
         "21.19"
        ],
        [
         "9",
         "2009-08-10",
         "21.13",
         "21.19"
        ],
        [
         "10",
         "2009-08-11",
         "21.13",
         "21.19"
        ],
        [
         "11",
         "2009-08-12",
         "21.13",
         "21.19"
        ],
        [
         "12",
         "2009-08-13",
         "21.13",
         "21.19"
        ],
        [
         "13",
         "2009-08-14",
         "21.13",
         "21.19"
        ],
        [
         "14",
         "2009-08-15",
         "21.13",
         "21.19"
        ],
        [
         "15",
         "2009-08-16",
         "21.13",
         "21.19"
        ],
        [
         "16",
         "2009-08-17",
         "21.13",
         "21.19"
        ],
        [
         "17",
         "2009-08-18",
         "21.13",
         "21.19"
        ],
        [
         "18",
         "2009-08-19",
         "21.13",
         "21.19"
        ],
        [
         "19",
         "2009-08-20",
         "21.13",
         "21.19"
        ],
        [
         "20",
         "2009-08-21",
         "21.13",
         "21.19"
        ],
        [
         "21",
         "2009-08-22",
         "21.13",
         "21.19"
        ],
        [
         "22",
         "2009-08-23",
         "21.13",
         "21.19"
        ],
        [
         "23",
         "2009-08-24",
         "21.13",
         "21.19"
        ],
        [
         "24",
         "2009-08-25",
         "21.13",
         "21.19"
        ],
        [
         "25",
         "2009-08-26",
         "21.13",
         "21.19"
        ],
        [
         "26",
         "2009-09-21",
         "22.09",
         "22.14"
        ],
        [
         "27",
         "2009-09-22",
         "22.22",
         "22.28"
        ],
        [
         "28",
         "2009-09-23",
         "22.27",
         "22.32"
        ],
        [
         "29",
         "2009-09-24",
         "22.23",
         "22.28"
        ],
        [
         "30",
         "2009-09-25",
         "22.07",
         "22.13"
        ],
        [
         "31",
         "2009-09-26",
         "22.04",
         "22.09"
        ],
        [
         "32",
         "2009-09-27",
         "22.04",
         "22.09"
        ],
        [
         "33",
         "2009-09-28",
         "22.07",
         "22.12"
        ],
        [
         "34",
         "2009-09-29",
         "22.09",
         "22.14"
        ],
        [
         "35",
         "2009-09-30",
         "22.19",
         "22.24"
        ],
        [
         "36",
         "2009-10-01",
         "22.25",
         "22.3"
        ],
        [
         "37",
         "2009-10-02",
         "22.18",
         "22.23"
        ],
        [
         "38",
         "2009-10-03",
         "22.22",
         "22.27"
        ],
        [
         "39",
         "2009-10-04",
         "22.22",
         "22.27"
        ],
        [
         "40",
         "2009-10-05",
         "22.27",
         "22.32"
        ],
        [
         "41",
         "2009-10-06",
         "22.5",
         "22.56"
        ],
        [
         "42",
         "2009-10-07",
         "22.92",
         "22.99"
        ],
        [
         "43",
         "2009-10-08",
         "23.13",
         "23.19"
        ],
        [
         "44",
         "2009-10-09",
         "23.04",
         "23.09"
        ],
        [
         "45",
         "2009-10-10",
         "23.07",
         "23.12"
        ],
        [
         "46",
         "2009-10-11",
         "23.07",
         "23.12"
        ],
        [
         "47",
         "2009-10-12",
         "23.15",
         "23.2"
        ],
        [
         "48",
         "2009-10-13",
         "23.49",
         "23.55"
        ],
        [
         "49",
         "2009-10-14",
         "23.76",
         "23.84"
        ]
       ],
       "shape": {
        "columns": 3,
        "rows": 5502
       }
      },
      "text/html": [
       "<div>\n",
       "<style scoped>\n",
       "    .dataframe tbody tr th:only-of-type {\n",
       "        vertical-align: middle;\n",
       "    }\n",
       "\n",
       "    .dataframe tbody tr th {\n",
       "        vertical-align: top;\n",
       "    }\n",
       "\n",
       "    .dataframe thead th {\n",
       "        text-align: right;\n",
       "    }\n",
       "</style>\n",
       "<table border=\"1\" class=\"dataframe\">\n",
       "  <thead>\n",
       "    <tr style=\"text-align: right;\">\n",
       "      <th></th>\n",
       "      <th>Date</th>\n",
       "      <th>Buy Price</th>\n",
       "      <th>Sell Price</th>\n",
       "    </tr>\n",
       "  </thead>\n",
       "  <tbody>\n",
       "    <tr>\n",
       "      <th>0</th>\n",
       "      <td>2009-08-01</td>\n",
       "      <td>21.13</td>\n",
       "      <td>21.19</td>\n",
       "    </tr>\n",
       "    <tr>\n",
       "      <th>1</th>\n",
       "      <td>2009-08-02</td>\n",
       "      <td>21.13</td>\n",
       "      <td>21.19</td>\n",
       "    </tr>\n",
       "    <tr>\n",
       "      <th>2</th>\n",
       "      <td>2009-08-03</td>\n",
       "      <td>21.13</td>\n",
       "      <td>21.19</td>\n",
       "    </tr>\n",
       "    <tr>\n",
       "      <th>3</th>\n",
       "      <td>2009-08-04</td>\n",
       "      <td>21.13</td>\n",
       "      <td>21.19</td>\n",
       "    </tr>\n",
       "    <tr>\n",
       "      <th>4</th>\n",
       "      <td>2009-08-05</td>\n",
       "      <td>21.13</td>\n",
       "      <td>21.19</td>\n",
       "    </tr>\n",
       "    <tr>\n",
       "      <th>...</th>\n",
       "      <td>...</td>\n",
       "      <td>...</td>\n",
       "      <td>...</td>\n",
       "    </tr>\n",
       "    <tr>\n",
       "      <th>5497</th>\n",
       "      <td>2024-12-28</td>\n",
       "      <td>82.80</td>\n",
       "      <td>85.30</td>\n",
       "    </tr>\n",
       "    <tr>\n",
       "      <th>5498</th>\n",
       "      <td>2024-12-29</td>\n",
       "      <td>82.80</td>\n",
       "      <td>85.30</td>\n",
       "    </tr>\n",
       "    <tr>\n",
       "      <th>5499</th>\n",
       "      <td>2024-12-30</td>\n",
       "      <td>82.80</td>\n",
       "      <td>85.30</td>\n",
       "    </tr>\n",
       "    <tr>\n",
       "      <th>5500</th>\n",
       "      <td>2024-12-31</td>\n",
       "      <td>82.80</td>\n",
       "      <td>85.30</td>\n",
       "    </tr>\n",
       "    <tr>\n",
       "      <th>5501</th>\n",
       "      <td>2025-01-01</td>\n",
       "      <td>82.80</td>\n",
       "      <td>85.30</td>\n",
       "    </tr>\n",
       "  </tbody>\n",
       "</table>\n",
       "<p>5502 rows × 3 columns</p>\n",
       "</div>"
      ],
      "text/plain": [
       "            Date  Buy Price  Sell Price\n",
       "0     2009-08-01      21.13       21.19\n",
       "1     2009-08-02      21.13       21.19\n",
       "2     2009-08-03      21.13       21.19\n",
       "3     2009-08-04      21.13       21.19\n",
       "4     2009-08-05      21.13       21.19\n",
       "...          ...        ...         ...\n",
       "5497  2024-12-28      82.80       85.30\n",
       "5498  2024-12-29      82.80       85.30\n",
       "5499  2024-12-30      82.80       85.30\n",
       "5500  2024-12-31      82.80       85.30\n",
       "5501  2025-01-01      82.80       85.30\n",
       "\n",
       "[5502 rows x 3 columns]"
      ]
     },
     "execution_count": 2,
     "metadata": {},
     "output_type": "execute_result"
    }
   ],
   "source": [
    "# Import library\n",
    "import pandas as pd\n",
    "df_clean=pd.read_csv('gold_prices_clean.csv')\n",
    "df_clean"
   ]
  },
  {
   "cell_type": "code",
   "execution_count": 3,
   "id": "5a8b9083",
   "metadata": {},
   "outputs": [
    {
     "name": "stdout",
     "output_type": "stream",
     "text": [
      "<class 'pandas.core.frame.DataFrame'>\n",
      "RangeIndex: 5502 entries, 0 to 5501\n",
      "Data columns (total 3 columns):\n",
      " #   Column      Non-Null Count  Dtype  \n",
      "---  ------      --------------  -----  \n",
      " 0   Date        5502 non-null   object \n",
      " 1   Buy Price   5502 non-null   float64\n",
      " 2   Sell Price  5502 non-null   float64\n",
      "dtypes: float64(2), object(1)\n",
      "memory usage: 129.1+ KB\n"
     ]
    }
   ],
   "source": [
    "df_clean.info()"
   ]
  },
  {
   "cell_type": "code",
   "execution_count": 4,
   "id": "d570126c",
   "metadata": {},
   "outputs": [
    {
     "data": {
      "application/vnd.microsoft.datawrangler.viewer.v0+json": {
       "columns": [
        {
         "name": "index",
         "rawType": "int64",
         "type": "integer"
        },
        {
         "name": "Date",
         "rawType": "datetime64[ns]",
         "type": "datetime"
        },
        {
         "name": "Buy Price",
         "rawType": "float64",
         "type": "float"
        },
        {
         "name": "Sell Price",
         "rawType": "float64",
         "type": "float"
        }
       ],
       "ref": "53926894-2946-4baf-af2a-9805d8fc2cd1",
       "rows": [
        [
         "0",
         "2009-08-01 00:00:00",
         "21.13",
         "21.19"
        ],
        [
         "1",
         "2009-08-02 00:00:00",
         "21.13",
         "21.19"
        ],
        [
         "2",
         "2009-08-03 00:00:00",
         "21.13",
         "21.19"
        ],
        [
         "3",
         "2009-08-04 00:00:00",
         "21.13",
         "21.19"
        ],
        [
         "4",
         "2009-08-05 00:00:00",
         "21.13",
         "21.19"
        ],
        [
         "5",
         "2009-08-06 00:00:00",
         "21.13",
         "21.19"
        ],
        [
         "6",
         "2009-08-07 00:00:00",
         "21.13",
         "21.19"
        ],
        [
         "7",
         "2009-08-08 00:00:00",
         "21.13",
         "21.19"
        ],
        [
         "8",
         "2009-08-09 00:00:00",
         "21.13",
         "21.19"
        ],
        [
         "9",
         "2009-08-10 00:00:00",
         "21.13",
         "21.19"
        ],
        [
         "10",
         "2009-08-11 00:00:00",
         "21.13",
         "21.19"
        ],
        [
         "11",
         "2009-08-12 00:00:00",
         "21.13",
         "21.19"
        ],
        [
         "12",
         "2009-08-13 00:00:00",
         "21.13",
         "21.19"
        ],
        [
         "13",
         "2009-08-14 00:00:00",
         "21.13",
         "21.19"
        ],
        [
         "14",
         "2009-08-15 00:00:00",
         "21.13",
         "21.19"
        ],
        [
         "15",
         "2009-08-16 00:00:00",
         "21.13",
         "21.19"
        ],
        [
         "16",
         "2009-08-17 00:00:00",
         "21.13",
         "21.19"
        ],
        [
         "17",
         "2009-08-18 00:00:00",
         "21.13",
         "21.19"
        ],
        [
         "18",
         "2009-08-19 00:00:00",
         "21.13",
         "21.19"
        ],
        [
         "19",
         "2009-08-20 00:00:00",
         "21.13",
         "21.19"
        ],
        [
         "20",
         "2009-08-21 00:00:00",
         "21.13",
         "21.19"
        ],
        [
         "21",
         "2009-08-22 00:00:00",
         "21.13",
         "21.19"
        ],
        [
         "22",
         "2009-08-23 00:00:00",
         "21.13",
         "21.19"
        ],
        [
         "23",
         "2009-08-24 00:00:00",
         "21.13",
         "21.19"
        ],
        [
         "24",
         "2009-08-25 00:00:00",
         "21.13",
         "21.19"
        ],
        [
         "25",
         "2009-08-26 00:00:00",
         "21.13",
         "21.19"
        ],
        [
         "26",
         "2009-09-21 00:00:00",
         "22.09",
         "22.14"
        ],
        [
         "27",
         "2009-09-22 00:00:00",
         "22.22",
         "22.28"
        ],
        [
         "28",
         "2009-09-23 00:00:00",
         "22.27",
         "22.32"
        ],
        [
         "29",
         "2009-09-24 00:00:00",
         "22.23",
         "22.28"
        ],
        [
         "30",
         "2009-09-25 00:00:00",
         "22.07",
         "22.13"
        ],
        [
         "31",
         "2009-09-26 00:00:00",
         "22.04",
         "22.09"
        ],
        [
         "32",
         "2009-09-27 00:00:00",
         "22.04",
         "22.09"
        ],
        [
         "33",
         "2009-09-28 00:00:00",
         "22.07",
         "22.12"
        ],
        [
         "34",
         "2009-09-29 00:00:00",
         "22.09",
         "22.14"
        ],
        [
         "35",
         "2009-09-30 00:00:00",
         "22.19",
         "22.24"
        ],
        [
         "36",
         "2009-10-01 00:00:00",
         "22.25",
         "22.3"
        ],
        [
         "37",
         "2009-10-02 00:00:00",
         "22.18",
         "22.23"
        ],
        [
         "38",
         "2009-10-03 00:00:00",
         "22.22",
         "22.27"
        ],
        [
         "39",
         "2009-10-04 00:00:00",
         "22.22",
         "22.27"
        ],
        [
         "40",
         "2009-10-05 00:00:00",
         "22.27",
         "22.32"
        ],
        [
         "41",
         "2009-10-06 00:00:00",
         "22.5",
         "22.56"
        ],
        [
         "42",
         "2009-10-07 00:00:00",
         "22.92",
         "22.99"
        ],
        [
         "43",
         "2009-10-08 00:00:00",
         "23.13",
         "23.19"
        ],
        [
         "44",
         "2009-10-09 00:00:00",
         "23.04",
         "23.09"
        ],
        [
         "45",
         "2009-10-10 00:00:00",
         "23.07",
         "23.12"
        ],
        [
         "46",
         "2009-10-11 00:00:00",
         "23.07",
         "23.12"
        ],
        [
         "47",
         "2009-10-12 00:00:00",
         "23.15",
         "23.2"
        ],
        [
         "48",
         "2009-10-13 00:00:00",
         "23.49",
         "23.55"
        ],
        [
         "49",
         "2009-10-14 00:00:00",
         "23.76",
         "23.84"
        ]
       ],
       "shape": {
        "columns": 3,
        "rows": 5502
       }
      },
      "text/html": [
       "<div>\n",
       "<style scoped>\n",
       "    .dataframe tbody tr th:only-of-type {\n",
       "        vertical-align: middle;\n",
       "    }\n",
       "\n",
       "    .dataframe tbody tr th {\n",
       "        vertical-align: top;\n",
       "    }\n",
       "\n",
       "    .dataframe thead th {\n",
       "        text-align: right;\n",
       "    }\n",
       "</style>\n",
       "<table border=\"1\" class=\"dataframe\">\n",
       "  <thead>\n",
       "    <tr style=\"text-align: right;\">\n",
       "      <th></th>\n",
       "      <th>Date</th>\n",
       "      <th>Buy Price</th>\n",
       "      <th>Sell Price</th>\n",
       "    </tr>\n",
       "  </thead>\n",
       "  <tbody>\n",
       "    <tr>\n",
       "      <th>0</th>\n",
       "      <td>2009-08-01</td>\n",
       "      <td>21.13</td>\n",
       "      <td>21.19</td>\n",
       "    </tr>\n",
       "    <tr>\n",
       "      <th>1</th>\n",
       "      <td>2009-08-02</td>\n",
       "      <td>21.13</td>\n",
       "      <td>21.19</td>\n",
       "    </tr>\n",
       "    <tr>\n",
       "      <th>2</th>\n",
       "      <td>2009-08-03</td>\n",
       "      <td>21.13</td>\n",
       "      <td>21.19</td>\n",
       "    </tr>\n",
       "    <tr>\n",
       "      <th>3</th>\n",
       "      <td>2009-08-04</td>\n",
       "      <td>21.13</td>\n",
       "      <td>21.19</td>\n",
       "    </tr>\n",
       "    <tr>\n",
       "      <th>4</th>\n",
       "      <td>2009-08-05</td>\n",
       "      <td>21.13</td>\n",
       "      <td>21.19</td>\n",
       "    </tr>\n",
       "    <tr>\n",
       "      <th>...</th>\n",
       "      <td>...</td>\n",
       "      <td>...</td>\n",
       "      <td>...</td>\n",
       "    </tr>\n",
       "    <tr>\n",
       "      <th>5497</th>\n",
       "      <td>2024-12-28</td>\n",
       "      <td>82.80</td>\n",
       "      <td>85.30</td>\n",
       "    </tr>\n",
       "    <tr>\n",
       "      <th>5498</th>\n",
       "      <td>2024-12-29</td>\n",
       "      <td>82.80</td>\n",
       "      <td>85.30</td>\n",
       "    </tr>\n",
       "    <tr>\n",
       "      <th>5499</th>\n",
       "      <td>2024-12-30</td>\n",
       "      <td>82.80</td>\n",
       "      <td>85.30</td>\n",
       "    </tr>\n",
       "    <tr>\n",
       "      <th>5500</th>\n",
       "      <td>2024-12-31</td>\n",
       "      <td>82.80</td>\n",
       "      <td>85.30</td>\n",
       "    </tr>\n",
       "    <tr>\n",
       "      <th>5501</th>\n",
       "      <td>2025-01-01</td>\n",
       "      <td>82.80</td>\n",
       "      <td>85.30</td>\n",
       "    </tr>\n",
       "  </tbody>\n",
       "</table>\n",
       "<p>5502 rows × 3 columns</p>\n",
       "</div>"
      ],
      "text/plain": [
       "           Date  Buy Price  Sell Price\n",
       "0    2009-08-01      21.13       21.19\n",
       "1    2009-08-02      21.13       21.19\n",
       "2    2009-08-03      21.13       21.19\n",
       "3    2009-08-04      21.13       21.19\n",
       "4    2009-08-05      21.13       21.19\n",
       "...         ...        ...         ...\n",
       "5497 2024-12-28      82.80       85.30\n",
       "5498 2024-12-29      82.80       85.30\n",
       "5499 2024-12-30      82.80       85.30\n",
       "5500 2024-12-31      82.80       85.30\n",
       "5501 2025-01-01      82.80       85.30\n",
       "\n",
       "[5502 rows x 3 columns]"
      ]
     },
     "execution_count": 4,
     "metadata": {},
     "output_type": "execute_result"
    }
   ],
   "source": [
    "# Vì cột 'Date' đang ở dạng object -> Chuyển kiểu dữ liệu cột 'Date' sang datetime\n",
    "import pandas as pd\n",
    "# Chuyển đổi cột 'Date' sang kiểu dữ liệu datetime\n",
    "df_clean['Date'] = pd.to_datetime(df_clean['Date'])\n",
    "\n",
    "# Hiển thị DataFrame\n",
    "df_clean"
   ]
  },
  {
   "cell_type": "code",
   "execution_count": 5,
   "id": "469bc49d",
   "metadata": {},
   "outputs": [
    {
     "data": {
      "application/vnd.microsoft.datawrangler.viewer.v0+json": {
       "columns": [
        {
         "name": "index",
         "rawType": "int64",
         "type": "integer"
        },
        {
         "name": "Date",
         "rawType": "datetime64[ns]",
         "type": "datetime"
        },
        {
         "name": "Buy Price",
         "rawType": "float64",
         "type": "float"
        },
        {
         "name": "Sell Price",
         "rawType": "float64",
         "type": "float"
        },
        {
         "name": "Time",
         "rawType": "int64",
         "type": "integer"
        }
       ],
       "ref": "093eef19-163d-4752-bed4-52df53187513",
       "rows": [
        [
         "0",
         "2009-08-01 00:00:00",
         "21.13",
         "21.19",
         "0"
        ],
        [
         "1",
         "2009-08-02 00:00:00",
         "21.13",
         "21.19",
         "1"
        ],
        [
         "2",
         "2009-08-03 00:00:00",
         "21.13",
         "21.19",
         "2"
        ],
        [
         "3",
         "2009-08-04 00:00:00",
         "21.13",
         "21.19",
         "3"
        ],
        [
         "4",
         "2009-08-05 00:00:00",
         "21.13",
         "21.19",
         "4"
        ]
       ],
       "shape": {
        "columns": 4,
        "rows": 5
       }
      },
      "text/html": [
       "<div>\n",
       "<style scoped>\n",
       "    .dataframe tbody tr th:only-of-type {\n",
       "        vertical-align: middle;\n",
       "    }\n",
       "\n",
       "    .dataframe tbody tr th {\n",
       "        vertical-align: top;\n",
       "    }\n",
       "\n",
       "    .dataframe thead th {\n",
       "        text-align: right;\n",
       "    }\n",
       "</style>\n",
       "<table border=\"1\" class=\"dataframe\">\n",
       "  <thead>\n",
       "    <tr style=\"text-align: right;\">\n",
       "      <th></th>\n",
       "      <th>Date</th>\n",
       "      <th>Buy Price</th>\n",
       "      <th>Sell Price</th>\n",
       "      <th>Time</th>\n",
       "    </tr>\n",
       "  </thead>\n",
       "  <tbody>\n",
       "    <tr>\n",
       "      <th>0</th>\n",
       "      <td>2009-08-01</td>\n",
       "      <td>21.13</td>\n",
       "      <td>21.19</td>\n",
       "      <td>0</td>\n",
       "    </tr>\n",
       "    <tr>\n",
       "      <th>1</th>\n",
       "      <td>2009-08-02</td>\n",
       "      <td>21.13</td>\n",
       "      <td>21.19</td>\n",
       "      <td>1</td>\n",
       "    </tr>\n",
       "    <tr>\n",
       "      <th>2</th>\n",
       "      <td>2009-08-03</td>\n",
       "      <td>21.13</td>\n",
       "      <td>21.19</td>\n",
       "      <td>2</td>\n",
       "    </tr>\n",
       "    <tr>\n",
       "      <th>3</th>\n",
       "      <td>2009-08-04</td>\n",
       "      <td>21.13</td>\n",
       "      <td>21.19</td>\n",
       "      <td>3</td>\n",
       "    </tr>\n",
       "    <tr>\n",
       "      <th>4</th>\n",
       "      <td>2009-08-05</td>\n",
       "      <td>21.13</td>\n",
       "      <td>21.19</td>\n",
       "      <td>4</td>\n",
       "    </tr>\n",
       "  </tbody>\n",
       "</table>\n",
       "</div>"
      ],
      "text/plain": [
       "        Date  Buy Price  Sell Price  Time\n",
       "0 2009-08-01      21.13       21.19     0\n",
       "1 2009-08-02      21.13       21.19     1\n",
       "2 2009-08-03      21.13       21.19     2\n",
       "3 2009-08-04      21.13       21.19     3\n",
       "4 2009-08-05      21.13       21.19     4"
      ]
     },
     "execution_count": 5,
     "metadata": {},
     "output_type": "execute_result"
    }
   ],
   "source": [
    "import numpy as np\n",
    "df_clean['Time'] = np.arange(len(df_clean.index))\n",
    "df_clean.head()"
   ]
  },
  {
   "cell_type": "code",
   "execution_count": 6,
   "id": "f37c8ef0",
   "metadata": {},
   "outputs": [
    {
     "name": "stdout",
     "output_type": "stream",
     "text": [
      "MAD (Buy Price): 7.321104827094697\n",
      "SSE (Buy Price): 409301.346200365\n"
     ]
    },
    {
     "data": {
      "image/png": "[encoded data removed]",
      "text/plain": [
       "<Figure size 640x480 with 1 Axes>"
      ]
     },
     "metadata": {},
     "output_type": "display_data"
    }
   ],
   "source": [
    "from sklearn.linear_model import LinearRegression\n",
    "# Xác định các giá trị dự đoán\n",
    "# Dữ liệu huấn luyện\n",
    "X = df_clean.loc[:, ['Time']]  # đặc trưng\n",
    "y = df_clean.loc[:, 'Buy Price']  # mục tiêu\n",
    "\n",
    "# Huấn luyện mô hình\n",
    "model = LinearRegression()\n",
    "model.fit(X, y)\n",
    "\n",
    "# Lưu các giá trị dự đoán dưới dạng chuỗi thời gian với cùng chỉ số thời gian như dữ liệu huấn luyện\n",
    "y_pred = pd.Series(model.predict(X), index=X.index)\n",
    "\n",
    "# Vẽ biểu đồ cho y và y dự đoán\n",
    "ax = y.plot()\n",
    "ax = y_pred.plot(ax=ax, linewidth=3)\n",
    "ax.set_title('Time Plot of Buy Price');\n",
    "\n",
    "\n",
    "# Tính MAD (Mean Absolute Deviation - Độ lệch tuyệt đối trung bình)\n",
    "mad = (y - y_pred).abs().mean()\n",
    "\n",
    "# Tính SSE (Sum of Squared Errors - Tổng bình phương sai số)\n",
    "sse = ((y - y_pred) ** 2).sum()\n",
    "\n",
    "print(f\"MAD (Buy Price): {mad}\")\n",
    "print(f\"SSE (Buy Price): {sse}\")\n"
   ]
  },
  {
   "cell_type": "code",
   "execution_count": 7,
   "id": "0163de16",
   "metadata": {},
   "outputs": [
    {
     "name": "stdout",
     "output_type": "stream",
     "text": [
      "MAD (Sell Price): 7.500885309738316\n",
      "SSE (Sell Price): 432874.62585358624\n"
     ]
    },
    {
     "data": {
      "image/png": "[encoded data removed]",
      "text/plain": [
       "<Figure size 640x480 with 1 Axes>"
      ]
     },
     "metadata": {},
     "output_type": "display_data"
    }
   ],
   "source": [
    "from sklearn.linear_model import LinearRegression\n",
    "# Xác định các giá trị dự đoán\n",
    "# Dữ liệu huấn luyện\n",
    "X = df_clean.loc[:, ['Time']]  # đặc trưng\n",
    "y = df_clean.loc[:, 'Sell Price']  # mục tiêu\n",
    "\n",
    "# Huấn luyện mô hình\n",
    "model = LinearRegression()\n",
    "model.fit(X, y)\n",
    "\n",
    "# Lưu các giá trị dự đoán dưới dạng chuỗi thời gian với cùng chỉ số thời gian như dữ liệu huấn luyện\n",
    "y_pred = pd.Series(model.predict(X), index=X.index)\n",
    "\n",
    "# Vẽ biểu đồ cho y và y dự đoán\n",
    "ax = y.plot()\n",
    "ax = y_pred.plot(ax=ax, linewidth=3)\n",
    "ax.set_title('Time Plot of Sell Price');\n",
    "\n",
    "\n",
    "# Tính MAD (Mean Absolute Deviation - Độ lệch tuyệt đối trung bình)\n",
    "mad = (y - y_pred).abs().mean()\n",
    "\n",
    "# Tính SSE (Sum of Squared Errors - Tổng bình phương sai số)\n",
    "sse = ((y - y_pred) ** 2).sum()\n",
    "\n",
    "print(f\"MAD (Sell Price): {mad}\")\n",
    "print(f\"SSE (Sell Price): {sse}\")\n"
   ]
  }
 ],
 "metadata": {
  "kernelspec": {
   "display_name": "Python 3",
   "language": "python",
   "name": "python3"
  },
  "language_info": {
   "codemirror_mode": {
    "name": "ipython",
    "version": 3
   },
   "file_extension": ".py",
   "mimetype": "text/x-python",
   "name": "python",
   "nbconvert_exporter": "python",
   "pygments_lexer": "ipython3",
   "version": "3.13.2"
  }
 },
 "nbformat": 4,
 "nbformat_minor": 5
}
